{
 "cells": [
  {
   "cell_type": "code",
   "execution_count": 1,
   "metadata": {
    "id": "4JCoOguwtKhF"
   },
   "outputs": [],
   "source": [
    "#Data processing\n",
    "from sklearn.preprocessing import OneHotEncoder\n",
    "from sklearn.preprocessing import LabelEncoder\n",
    "\n",
    "from imblearn.over_sampling import SMOTE\n",
    "\n",
    "from sklearn.model_selection import train_test_split\n",
    "from sklearn.compose import ColumnTransformer\n",
    "\n",
    "#Model performance metrics\n",
    "from time import process_time\n",
    "from memory_profiler import profile\n",
    "from sklearn.metrics import confusion_matrix\n",
    "from sklearn.metrics import classification_report\n",
    "\n",
    "#Feature selection and models\n",
    "from sklearn.tree import DecisionTreeClassifier\n",
    "from sklearn.ensemble import RandomForestClassifier\n",
    "from sklearn.linear_model import LogisticRegression\n",
    "from sklearn.feature_selection import RFE\n",
    "\n",
    "#Data scaling\n",
    "from sklearn.preprocessing import MinMaxScaler\n",
    "from sklearn.preprocessing import StandardScaler"
   ]
  },
  {
   "cell_type": "code",
   "execution_count": 2,
   "metadata": {},
   "outputs": [],
   "source": [
    "%load_ext memory_profiler"
   ]
  },
  {
   "cell_type": "markdown",
   "metadata": {},
   "source": [
    "Models"
   ]
  },
  {
   "cell_type": "code",
   "execution_count": 4,
   "metadata": {},
   "outputs": [],
   "source": [
    "#Random Forest Model\n",
    "def RFClassifier(X_train, y_train, X_test, y_test):\n",
    "  #Initialize the Random Forest Classifier\n",
    "  forest_raw_imbalanced = RandomForestClassifier(n_estimators = 100)\n",
    "\n",
    "  #Time Measurement\n",
    "  start_time = process_time()\n",
    "\n",
    "  #Fit the classifier to the data\n",
    "  forest_raw_imbalanced.fit(X_train, y_train)\n",
    "\n",
    "  #Predict new Data\n",
    "  y_pred = forest_raw_imbalanced.predict(X_test)\n",
    "\n",
    "  #Time Measurement\n",
    "  end_time = process_time()\n",
    "\n",
    "  #Results\n",
    "  cr = classification_report(y_test, y_pred)\n",
    "  cm = confusion_matrix(y_test, y_pred)\n",
    "  time = end_time - start_time\n",
    "  print(cr)\n",
    "  print(cm)\n",
    "  print(time)"
   ]
  },
  {
   "cell_type": "markdown",
   "metadata": {},
   "source": [
    "# Modified Models to include SMOTE and standardization"
   ]
  },
  {
   "cell_type": "code",
   "execution_count": 7,
   "metadata": {},
   "outputs": [],
   "source": [
    "#Random Forest function\n",
    "def RFClassifierMOD(X_train, y_train, X_test, y_test, numeric_attributes, cat_attributes):\n",
    "  #Initialize the DecisionTreeClassifier\n",
    "  forest_raw_imbalanced = RandomForestClassifier(n_estimators = 100)\n",
    "\n",
    "  #Time Measurement\n",
    "  start_time = process_time()\n",
    "  \n",
    "  #Data preprocessing\n",
    "  smote = SMOTE()\n",
    "  X_train_smote, y_train_smote = smote.fit_resample(X_train, y_train)\n",
    "    \n",
    "  # Subset the numeric attributes\n",
    "  X_train_smote_numeric = X_train_smote[numeric_attributes]\n",
    "  X_test_numeric = X_test[numeric_attributes]\n",
    "\n",
    "  scaler = StandardScaler()\n",
    "  X_train_smote_S = scaler.fit_transform(X_train_smote_numeric)\n",
    "  X_test_numeric_S = scaler.transform(X_test_numeric)\n",
    "        \n",
    "  # Concatenate the standardized numeric attributes with the categorical attributes\n",
    "  X_train_combined = np.concatenate((X_train_smote_S, X_train_smote[cat_attributes]), axis=1)\n",
    "  X_test_combined = np.concatenate((X_test_numeric_S, X_test[cat_attributes]), axis=1)\n",
    "\n",
    "  #Fit the Classifier to the data\n",
    "  forest_raw_imbalanced.fit(X_train_combined, y_train_smote)\n",
    "\n",
    "  #Predict new Data\n",
    "  y_pred = forest_raw_imbalanced.predict(X_test_combined)\n",
    "\n",
    "  #Time Measurement\n",
    "  end_time = process_time()\n",
    "\n",
    "  #Results\n",
    "  cr = classification_report(y_test, y_pred)\n",
    "  cm = confusion_matrix(y_test, y_pred)\n",
    "  time = end_time - start_time\n",
    "  print(cr)\n",
    "  print(cm)\n",
    "  print(time)"
   ]
  },
  {
   "cell_type": "markdown",
   "metadata": {},
   "source": [
    "# Crossvalidation Models"
   ]
  },
  {
   "cell_type": "code",
   "execution_count": 62,
   "metadata": {},
   "outputs": [],
   "source": [
    "from sklearn.model_selection import cross_val_score\n",
    "from sklearn.model_selection import KFold\n",
    "from sklearn.model_selection import TimeSeriesSplit"
   ]
  },
  {
   "cell_type": "markdown",
   "metadata": {},
   "source": [
    "K-Fold Validation Models"
   ]
  },
  {
   "cell_type": "code",
   "execution_count": 63,
   "metadata": {},
   "outputs": [],
   "source": [
    "#Random Forest Function\n",
    "def RFClassifierKFold(X_train, y_train, X_test, y_test, numeric_attributes, cat_attributes, num_folds):\n",
    "  #Initialize the DecisionTreeClassifier\n",
    "  forest_raw_imbalanced = RandomForestClassifier(n_estimators = 100)\n",
    "\n",
    "  #Time Measurement\n",
    "  start_time = process_time()\n",
    "    \n",
    "  #Specify number of folds (k) for cross validation\n",
    "  kfold = KFold(n_splits = num_folds)\n",
    "    \n",
    "  results = cross_val_score(forest_raw_imbalanced, X_train, y_train, cv = kfold)\n",
    "\n",
    "  #Lists for metrics\n",
    "  confusion_matrices = []\n",
    "  classification_reports = []\n",
    "    \n",
    "  all_predictions = []\n",
    "  all_true_labels = []\n",
    "    \n",
    "  for train_index, val_index in kfold.split(X_train):\n",
    "    X_train_fold_values, X_val_fold_values = X_train.values[train_index], X_train.values[val_index]\n",
    "    y_train_fold_values, y_val_fold_values = y_train.values[train_index], y_train.values[val_index]\n",
    "    \n",
    "    X_train_fold = pd.DataFrame(X_train_fold_values, columns=X_train.columns)\n",
    "    X_val_fold = pd.DataFrame(X_val_fold_values, columns=X_train.columns)\n",
    "    y_train_fold = pd.Series(y_train_fold_values, index=X_train_fold.index)\n",
    "    y_val_fold = pd.Series(y_val_fold_values, index=X_val_fold.index)\n",
    "    \n",
    "    X_train_numeric = X_train_fold.loc[:, numeric_attributes]\n",
    "    X_val_numeric = X_val_fold.loc[:, numeric_attributes]\n",
    "    \n",
    "    scaler = StandardScaler()\n",
    "    X_train_smote_S = scaler.fit_transform(X_train_numeric)\n",
    "    X_test_numeric_S = scaler.transform(X_val_numeric)\n",
    "    \n",
    "    # Concatenate the standardized numeric attributes with the categorical attributes\n",
    "    X_train_combined = np.concatenate((X_train_smote_S, X_train_fold[cat_attributes]), axis=1)\n",
    "    X_test_combined = np.concatenate((X_test_numeric_S, X_val_fold[cat_attributes]), axis=1)\n",
    "    \n",
    "    #Data preprocessing\n",
    "    smote = SMOTE()\n",
    "    X_train_fold_SMOTE, y_train_fold_SMOTE = smote.fit_resample(X_train_combined, y_train_fold)\n",
    "\n",
    "    #Fit the Classifier to the data\n",
    "    forest_raw_imbalanced.fit(X_train_combined, y_train_fold)\n",
    "\n",
    "    #Predict new Data\n",
    "    y_pred = forest_raw_imbalanced.predict(X_test_combined)\n",
    "    \n",
    "    cr = classification_report(y_val_fold, y_pred)\n",
    "    classification_reports.append(cr)\n",
    "    \n",
    "    cm = confusion_matrix(y_val_fold, y_pred)\n",
    "    confusion_matrices.append(cm)\n",
    "    \n",
    "    all_predictions.extend(y_pred)\n",
    "    all_true_labels.extend(y_val_fold)\n",
    "\n",
    "  #Time Measurement\n",
    "  end_time = process_time()\n",
    "\n",
    "  time = end_time - start_time\n",
    "  summary_report = classification_report(all_true_labels, all_predictions)\n",
    "  \n",
    "  \"\"\"\n",
    "  for fold in range(num_folds):\n",
    "    print(\"Confusion matrix for fold\", fold+1, \":\\n\", confusion_matrices[fold])\n",
    "    print(\"Classification report for fold\", fold+1, \":\\n\", classification_reports[fold])\n",
    "    print()\"\"\"\n",
    "    \n",
    "  print(summary_report)\n",
    "  print(time)"
   ]
  },
  {
   "cell_type": "markdown",
   "metadata": {},
   "source": [
    "# Time-Series crossvalidation"
   ]
  },
  {
   "cell_type": "code",
   "execution_count": 81,
   "metadata": {},
   "outputs": [],
   "source": [
    "#Random Forest Function\n",
    "def RFClassifierTS(X_train, y_train, X_test, y_test, numeric_attributes, cat_attributes, num_folds):\n",
    "  #Initialize the DecisionTreeClassifier\n",
    "  forest_raw_imbalanced = RandomForestClassifier(n_estimators = 100)\n",
    "\n",
    "  #Time Measurement\n",
    "  start_time = process_time()\n",
    "    \n",
    "  #Specify number of folds (k) for cross validation\n",
    "  tscv = TimeSeriesSplit(n_splits = num_folds)\n",
    "    \n",
    "  results = cross_val_score(forest_raw_imbalanced, X_train, y_train, cv = tscv)\n",
    "\n",
    "  #Lists for metrics\n",
    "  confusion_matrices = []\n",
    "  classification_reports = []\n",
    "    \n",
    "  all_predictions = []\n",
    "  all_true_labels = []\n",
    "    \n",
    "  for train_index, val_index in tscv.split(X_train):\n",
    "    X_train_fold_values, X_val_fold_values = X_train.values[train_index], X_train.values[val_index]\n",
    "    y_train_fold_values, y_val_fold_values = y_train.values[train_index], y_train.values[val_index]\n",
    "    \n",
    "    X_train_fold = pd.DataFrame(X_train_fold_values, columns=X_train.columns)\n",
    "    X_val_fold = pd.DataFrame(X_val_fold_values, columns=X_train.columns)\n",
    "    y_train_fold = pd.Series(y_train_fold_values, index=X_train_fold.index)\n",
    "    y_val_fold = pd.Series(y_val_fold_values, index=X_val_fold.index)\n",
    "    \n",
    "    X_train_numeric = X_train_fold.loc[:, numeric_attributes]\n",
    "    X_val_numeric = X_val_fold.loc[:, numeric_attributes]\n",
    "    \n",
    "    scaler = StandardScaler()\n",
    "    X_train_smote_S = scaler.fit_transform(X_train_numeric)\n",
    "    X_test_numeric_S = scaler.transform(X_val_numeric)\n",
    "    \n",
    "    # Concatenate the standardized numeric attributes with the categorical attributes\n",
    "    X_train_combined = np.concatenate((X_train_smote_S, X_train_fold[cat_attributes]), axis=1)\n",
    "    X_test_combined = np.concatenate((X_test_numeric_S, X_val_fold[cat_attributes]), axis=1)\n",
    "    \n",
    "    #Data preprocessing\n",
    "    smote = SMOTE()\n",
    "    X_train_fold_SMOTE, y_train_fold_SMOTE = smote.fit_resample(X_train_combined, y_train_fold)\n",
    "\n",
    "    #Fit the Classifier to the data\n",
    "    forest_raw_imbalanced.fit(X_train_combined, y_train_fold)\n",
    "\n",
    "    #Predict new Data\n",
    "    y_pred = forest_raw_imbalanced.predict(X_test_combined)\n",
    "    \n",
    "    cr = classification_report(y_val_fold, y_pred)\n",
    "    classification_reports.append(cr)\n",
    "    \n",
    "    cm = confusion_matrix(y_val_fold, y_pred)\n",
    "    confusion_matrices.append(cm)\n",
    "    \n",
    "    all_predictions.extend(y_pred)\n",
    "    all_true_labels.extend(y_val_fold)\n",
    "\n",
    "  #Time Measurement\n",
    "  end_time = process_time()\n",
    "\n",
    "  time = end_time - start_time\n",
    "  summary_report = classification_report(all_true_labels, all_predictions)\n",
    "  \n",
    "  \"\"\"\n",
    "  for fold in range(num_folds):\n",
    "    print(\"Confusion matrix for fold\", fold+1, \":\\n\", confusion_matrices[fold])\n",
    "    print(\"Classification report for fold\", fold+1, \":\\n\", classification_reports[fold])\n",
    "    print()\"\"\"\n",
    "    \n",
    "  print(summary_report)\n",
    "  print(time)"
   ]
  },
  {
   "cell_type": "markdown",
   "metadata": {},
   "source": [
    "# Data Import and Processing"
   ]
  },
  {
   "cell_type": "code",
   "execution_count": 66,
   "metadata": {
    "id": "44OujbUttSSO"
   },
   "outputs": [],
   "source": [
    "#https://archive.ics.uci.edu/dataset/468/online+shoppers+purchasing+intention+dataset\n",
    "\n",
    "import pandas as pd\n",
    "import numpy as np\n",
    "import matplotlib.pyplot as plt\n",
    "\n",
    "df = pd.read_csv(\"online_shoppers_intention.csv\")"
   ]
  },
  {
   "cell_type": "code",
   "execution_count": 67,
   "metadata": {
    "id": "KRCsu3r5tZpJ"
   },
   "outputs": [],
   "source": [
    "#Identify categorical attributes\n",
    "categorical_features = [\"Month\", \"OperatingSystems\", \"Browser\", \"Region\", \"TrafficType\", \"VisitorType\", \"Weekend\"]\n",
    "df_cat = df[categorical_features]\n",
    "\n",
    "df_onehot = pd.get_dummies(df, columns = categorical_features, prefix = categorical_features)\n",
    "\n",
    "#Tranform categorical attributes\n",
    "label_encoder = LabelEncoder()\n",
    "df_onehot['Revenue'] = label_encoder.fit_transform(df['Revenue'])"
   ]
  },
  {
   "cell_type": "markdown",
   "metadata": {
    "id": "EcUOdrF_tlUx"
   },
   "source": [
    "Control SMOTE data"
   ]
  },
  {
   "cell_type": "code",
   "execution_count": 68,
   "metadata": {
    "id": "8rc2Vmy8texw"
   },
   "outputs": [],
   "source": [
    "#Specify independent/ dependent values\n",
    "X = df_onehot.drop(columns = \"Revenue\")\n",
    "y = df_onehot[\"Revenue\"]\n",
    "\n",
    "#Split the Data\n",
    "X_train, X_test, y_train, y_test = train_test_split(X, y, test_size = 0.3)\n",
    "\n",
    "smote = SMOTE()\n",
    "X_train_smote, y_train_smote = smote.fit_resample(X_train, y_train)"
   ]
  },
  {
   "cell_type": "markdown",
   "metadata": {
    "id": "zpMyEWmOtvjL"
   },
   "source": [
    "# Filtered Data"
   ]
  },
  {
   "cell_type": "markdown",
   "metadata": {
    "id": "IHa8Kv3ptyvM"
   },
   "source": [
    "Pearson Correlation Filters"
   ]
  },
  {
   "cell_type": "code",
   "execution_count": 69,
   "metadata": {
    "colab": {
     "base_uri": "https://localhost:8080/"
    },
    "id": "3HrDrPu0tyFK",
    "outputId": "77ac05e8-4c20-49ec-d89b-e762c8772149"
   },
   "outputs": [
    {
     "name": "stderr",
     "output_type": "stream",
     "text": [
      "C:\\Users\\david\\AppData\\Local\\Temp/ipykernel_17004/402327404.py:18: SettingWithCopyWarning: \n",
      "A value is trying to be set on a copy of a slice from a DataFrame.\n",
      "Try using .loc[row_indexer,col_indexer] = value instead\n",
      "\n",
      "See the caveats in the documentation: https://pandas.pydata.org/pandas-docs/stable/user_guide/indexing.html#returning-a-view-versus-a-copy\n",
      "  df_pearson['Revenue'] = label_encoder.fit_transform(df_pearson['Revenue'])\n"
     ]
    }
   ],
   "source": [
    "#Correlation of Onehot encoded dataset\n",
    "\n",
    "corr = df_onehot.corr()\n",
    "\n",
    "revenue_correlation = corr[\"Revenue\"]\n",
    "sorted_pearson_correlation = revenue_correlation.abs().sort_values(ascending = False)\n",
    "\n",
    "sorted_pearson_correlation_df = pd.DataFrame(sorted_pearson_correlation)\n",
    "SPC_topquantile = sorted_pearson_correlation_df.quantile(0.75)\n",
    "filtered_df = sorted_pearson_correlation_df[sorted_pearson_correlation_df >= SPC_topquantile]\n",
    "filtered_df.dropna(inplace = True)\n",
    "#18 attributes were kept, were in the top quantile\n",
    "     \n",
    "df_pearson = df_onehot[filtered_df.index.tolist()]\n",
    "\n",
    "#Tranform categorical attributes\n",
    "label_encoder = LabelEncoder()\n",
    "df_pearson['Revenue'] = label_encoder.fit_transform(df_pearson['Revenue'])\n",
    "\n",
    "#Specify independent/ dependent values\n",
    "X_p = df_pearson.drop(columns = \"Revenue\")\n",
    "y_p = df_pearson[\"Revenue\"]\n",
    "\n",
    "#Split the Data\n",
    "X_p_train, X_p_test, y_p_train, y_p_test = train_test_split(X_p, y_p, test_size = 0.3)\n",
    "\n",
    "smote = SMOTE()\n",
    "X_p_train_smote, y_p_train_smote = smote.fit_resample(X_p_train, y_p_train)"
   ]
  },
  {
   "cell_type": "markdown",
   "metadata": {
    "id": "k3Mm3aGPuXM0"
   },
   "source": [
    "Random Forest Features"
   ]
  },
  {
   "cell_type": "code",
   "execution_count": 71,
   "metadata": {
    "colab": {
     "base_uri": "https://localhost:8080/"
    },
    "id": "QEM13opyuB5_",
    "outputId": "739e18dc-171b-43f9-b25a-f990e38acc59"
   },
   "outputs": [
    {
     "name": "stderr",
     "output_type": "stream",
     "text": [
      "C:\\Users\\david\\AppData\\Local\\Temp/ipykernel_17004/1307179630.py:26: SettingWithCopyWarning: \n",
      "A value is trying to be set on a copy of a slice from a DataFrame.\n",
      "Try using .loc[row_indexer,col_indexer] = value instead\n",
      "\n",
      "See the caveats in the documentation: https://pandas.pydata.org/pandas-docs/stable/user_guide/indexing.html#returning-a-view-versus-a-copy\n",
      "  df_rf[\"Revenue\"] = df_onehot[\"Revenue\"]\n"
     ]
    }
   ],
   "source": [
    "#Filters of RF Classifier\n",
    "\n",
    "rf_classifier = RandomForestClassifier()\n",
    "\n",
    "#Fit random forest classifier\n",
    "rf_classifier.fit(X_train_smote, y_train_smote)\n",
    "\n",
    "feature_importances = rf_classifier.feature_importances_\n",
    "\n",
    "rf_df = pd.DataFrame({\"Feature\": X_train_smote.columns, \"Importance\": feature_importances})\n",
    "\n",
    "sorted_features = np.argsort(feature_importances)[::-1]\n",
    "\n",
    "#Sorting features\n",
    "rf_df_sorted = rf_df.sort_values(\"Importance\", ascending = False)\n",
    "rf_df_sorted = rf_df_sorted.reset_index(drop = True)\n",
    "rf_df_sorted\n",
    "\n",
    "rf_df_sorted.describe()\n",
    "RF_topquantile = rf_df_sorted['Importance'].quantile(0.75)\n",
    "RFfiltered_df = rf_df_sorted.loc[rf_df_sorted['Importance'] >= RF_topquantile]\n",
    "#19 features were kept after keeping the top quartile of results\n",
    "filtered_attributes_rf = RFfiltered_df.index.tolist()\n",
    "df_rf = df_onehot[RFfiltered_df[\"Feature\"]]\n",
    "\n",
    "df_rf[\"Revenue\"] = df_onehot[\"Revenue\"]\n",
    "\n",
    "#Specify independent/ dependent values\n",
    "X_rf = df_rf.drop(columns = \"Revenue\")\n",
    "y_rf = df_rf[\"Revenue\"]\n",
    "\n",
    "#Split the Data\n",
    "X_rf_train, X_rf_test, y_rf_train, y_rf_test = train_test_split(X_rf, y_rf, test_size = 0.3)\n",
    "\n",
    "smote = SMOTE()\n",
    "X_rf_train_smote, y_rf_train_smote = smote.fit_resample(X_rf_train, y_rf_train)"
   ]
  },
  {
   "cell_type": "code",
   "execution_count": 72,
   "metadata": {},
   "outputs": [],
   "source": [
    "#Define columns that need data normalization/ standardization\n",
    "numeric_features = ['Administrative', 'Administrative_Duration', 'Informational',\n",
    "       'Informational_Duration', 'ProductRelated', 'ProductRelated_Duration',\n",
    "       'BounceRates', 'ExitRates', 'PageValues', 'SpecialDay']\n",
    "\n",
    "p_numeric_features = ['Administrative', 'Administrative_Duration', 'Informational', \n",
    "       'Informational_Duration', 'ProductRelated', 'ProductRelated_Duration','BounceRates',\n",
    "       'ExitRates', 'PageValues', 'SpecialDay']\n",
    "\n",
    "rf_numeric_features = ['Administrative', 'Administrative_Duration',\n",
    "       'Informational_Duration', 'ProductRelated', 'ProductRelated_Duration',\n",
    "       'BounceRates', 'ExitRates', 'PageValues']\n",
    "\n",
    "cat_features = [col for col in X_train if col not in numeric_features]\n",
    "p_cat_features = [col for col in X_p_train if col not in numeric_features]\n",
    "rf_cat_features = [col for col in X_rf_train if col not in numeric_features]"
   ]
  },
  {
   "cell_type": "markdown",
   "metadata": {},
   "source": [
    "# Modified Functions to include oversampling/scaling within the function"
   ]
  },
  {
   "cell_type": "markdown",
   "metadata": {},
   "source": [
    "Unfiltered Data"
   ]
  },
  {
   "cell_type": "code",
   "execution_count": 77,
   "metadata": {},
   "outputs": [
    {
     "name": "stdout",
     "output_type": "stream",
     "text": [
      "              precision    recall  f1-score   support\n",
      "\n",
      "           0       0.93      0.95      0.94      3124\n",
      "           1       0.69      0.63      0.66       575\n",
      "\n",
      "    accuracy                           0.90      3699\n",
      "   macro avg       0.81      0.79      0.80      3699\n",
      "weighted avg       0.90      0.90      0.90      3699\n",
      "\n",
      "[[2962  162]\n",
      " [ 210  365]]\n",
      "2.265625\n",
      "peak memory: 290.05 MiB, increment: 41.38 MiB\n"
     ]
    }
   ],
   "source": [
    "%memit RFClassifierMOD(X_train, y_train, X_test, y_test, numeric_features, cat_features)"
   ]
  },
  {
   "cell_type": "markdown",
   "metadata": {},
   "source": [
    "Pearson Correlation Filtered Data"
   ]
  },
  {
   "cell_type": "code",
   "execution_count": 78,
   "metadata": {},
   "outputs": [
    {
     "name": "stdout",
     "output_type": "stream",
     "text": [
      "              precision    recall  f1-score   support\n",
      "\n",
      "           0       0.95      0.92      0.93      3161\n",
      "           1       0.61      0.70      0.65       538\n",
      "\n",
      "    accuracy                           0.89      3699\n",
      "   macro avg       0.78      0.81      0.79      3699\n",
      "weighted avg       0.90      0.89      0.89      3699\n",
      "\n",
      "[[2919  242]\n",
      " [ 164  374]]\n",
      "2.40625\n",
      "peak memory: 273.62 MiB, increment: 24.36 MiB\n"
     ]
    }
   ],
   "source": [
    "%memit RFClassifierMOD(X_p_train, y_p_train, X_p_test, y_p_test, p_numeric_features, p_cat_features)"
   ]
  },
  {
   "cell_type": "markdown",
   "metadata": {},
   "source": [
    "Random Forest Features"
   ]
  },
  {
   "cell_type": "code",
   "execution_count": 79,
   "metadata": {},
   "outputs": [
    {
     "name": "stdout",
     "output_type": "stream",
     "text": [
      "              precision    recall  f1-score   support\n",
      "\n",
      "           0       0.94      0.93      0.93      3099\n",
      "           1       0.66      0.69      0.67       600\n",
      "\n",
      "    accuracy                           0.89      3699\n",
      "   macro avg       0.80      0.81      0.80      3699\n",
      "weighted avg       0.89      0.89      0.89      3699\n",
      "\n",
      "[[2885  214]\n",
      " [ 189  411]]\n",
      "2.390625\n",
      "peak memory: 273.88 MiB, increment: 22.00 MiB\n"
     ]
    }
   ],
   "source": [
    "%memit RFClassifierMOD(X_rf_train, y_rf_train, X_rf_test, y_rf_test, rf_numeric_features, rf_cat_features)"
   ]
  },
  {
   "cell_type": "markdown",
   "metadata": {},
   "source": [
    "# K-Fold Crossvalidation "
   ]
  },
  {
   "cell_type": "markdown",
   "metadata": {},
   "source": [
    "Unfiltered Data"
   ]
  },
  {
   "cell_type": "code",
   "execution_count": 50,
   "metadata": {},
   "outputs": [
    {
     "name": "stdout",
     "output_type": "stream",
     "text": [
      "              precision    recall  f1-score   support\n",
      "\n",
      "           0       0.92      0.97      0.94      7252\n",
      "           1       0.76      0.54      0.63      1379\n",
      "\n",
      "    accuracy                           0.90      8631\n",
      "   macro avg       0.84      0.76      0.79      8631\n",
      "weighted avg       0.89      0.90      0.89      8631\n",
      "\n",
      "9.40625\n",
      "peak memory: 280.73 MiB, increment: 38.40 MiB\n"
     ]
    }
   ],
   "source": [
    "%memit RFClassifierKFold(X_train, y_train, X_test, y_test, numeric_features, cat_features, 5)"
   ]
  },
  {
   "cell_type": "markdown",
   "metadata": {},
   "source": [
    "Pearson correlation features"
   ]
  },
  {
   "cell_type": "code",
   "execution_count": 53,
   "metadata": {},
   "outputs": [
    {
     "name": "stdout",
     "output_type": "stream",
     "text": [
      "              precision    recall  f1-score   support\n",
      "\n",
      "           0       0.92      0.96      0.94      7277\n",
      "           1       0.73      0.57      0.64      1354\n",
      "\n",
      "    accuracy                           0.90      8631\n",
      "   macro avg       0.83      0.77      0.79      8631\n",
      "weighted avg       0.89      0.90      0.89      8631\n",
      "\n",
      "6.015625\n",
      "peak memory: 256.45 MiB, increment: 4.98 MiB\n"
     ]
    }
   ],
   "source": [
    "%memit RFClassifierKFold(X_p_train, y_p_train, X_p_test, y_p_test, p_numeric_features, p_cat_features, 5)"
   ]
  },
  {
   "cell_type": "markdown",
   "metadata": {},
   "source": [
    "Random forest features"
   ]
  },
  {
   "cell_type": "code",
   "execution_count": 56,
   "metadata": {},
   "outputs": [
    {
     "name": "stdout",
     "output_type": "stream",
     "text": [
      "              precision    recall  f1-score   support\n",
      "\n",
      "           0       0.92      0.96      0.94      7297\n",
      "           1       0.73      0.54      0.62      1334\n",
      "\n",
      "    accuracy                           0.90      8631\n",
      "   macro avg       0.83      0.75      0.78      8631\n",
      "weighted avg       0.89      0.90      0.89      8631\n",
      "\n",
      "9.78125\n",
      "peak memory: 265.84 MiB, increment: 22.53 MiB\n"
     ]
    }
   ],
   "source": [
    "%memit RFClassifierKFold(X_rf_train, y_rf_train, X_rf_test, y_rf_test, rf_numeric_features, rf_cat_features, 5)"
   ]
  },
  {
   "cell_type": "markdown",
   "metadata": {},
   "source": [
    "# Time-Series Crossvalidation"
   ]
  },
  {
   "cell_type": "markdown",
   "metadata": {},
   "source": [
    "Unfiltered Data"
   ]
  },
  {
   "cell_type": "code",
   "execution_count": 82,
   "metadata": {},
   "outputs": [
    {
     "name": "stdout",
     "output_type": "stream",
     "text": [
      "              precision    recall  f1-score   support\n",
      "\n",
      "           0       0.91      0.97      0.94      6084\n",
      "           1       0.77      0.46      0.57      1106\n",
      "\n",
      "    accuracy                           0.90      7190\n",
      "   macro avg       0.84      0.72      0.76      7190\n",
      "weighted avg       0.89      0.90      0.88      7190\n",
      "\n",
      "6.25\n",
      "peak memory: 283.68 MiB, increment: 35.94 MiB\n"
     ]
    }
   ],
   "source": [
    "%memit RFClassifierTS(X_train, y_train, X_test, y_test, numeric_features, cat_features, 5)"
   ]
  },
  {
   "cell_type": "markdown",
   "metadata": {},
   "source": [
    "Pearson correlation data"
   ]
  },
  {
   "cell_type": "code",
   "execution_count": 83,
   "metadata": {},
   "outputs": [
    {
     "name": "stdout",
     "output_type": "stream",
     "text": [
      "              precision    recall  f1-score   support\n",
      "\n",
      "           0       0.93      0.96      0.94      6044\n",
      "           1       0.72      0.59      0.65      1146\n",
      "\n",
      "    accuracy                           0.90      7190\n",
      "   macro avg       0.82      0.77      0.79      7190\n",
      "weighted avg       0.89      0.90      0.89      7190\n",
      "\n",
      "6.5\n",
      "peak memory: 263.99 MiB, increment: 17.05 MiB\n"
     ]
    }
   ],
   "source": [
    "%memit RFClassifierTS(X_p_train, y_p_train, X_p_test, y_p_test, p_numeric_features, p_cat_features, 5)"
   ]
  },
  {
   "cell_type": "markdown",
   "metadata": {},
   "source": [
    "Random Forest features"
   ]
  },
  {
   "cell_type": "code",
   "execution_count": 84,
   "metadata": {},
   "outputs": [
    {
     "name": "stdout",
     "output_type": "stream",
     "text": [
      "              precision    recall  f1-score   support\n",
      "\n",
      "           0       0.92      0.96      0.94      6078\n",
      "           1       0.73      0.54      0.62      1112\n",
      "\n",
      "    accuracy                           0.90      7190\n",
      "   macro avg       0.82      0.75      0.78      7190\n",
      "weighted avg       0.89      0.90      0.89      7190\n",
      "\n",
      "6.625\n",
      "peak memory: 263.36 MiB, increment: 16.36 MiB\n"
     ]
    }
   ],
   "source": [
    "%memit RFClassifierTS(X_rf_train, y_rf_train, X_rf_test, y_rf_test, rf_numeric_features, rf_cat_features, 5)"
   ]
  },
  {
   "cell_type": "code",
   "execution_count": null,
   "metadata": {},
   "outputs": [],
   "source": []
  }
 ],
 "metadata": {
  "colab": {
   "provenance": []
  },
  "kernelspec": {
   "display_name": "Python 3 (ipykernel)",
   "language": "python",
   "name": "python3"
  },
  "language_info": {
   "codemirror_mode": {
    "name": "ipython",
    "version": 3
   },
   "file_extension": ".py",
   "mimetype": "text/x-python",
   "name": "python",
   "nbconvert_exporter": "python",
   "pygments_lexer": "ipython3",
   "version": "3.9.7"
  }
 },
 "nbformat": 4,
 "nbformat_minor": 1
}
