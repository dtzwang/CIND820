{
 "cells": [
  {
   "cell_type": "code",
   "execution_count": 2,
   "metadata": {
    "id": "5q2pAcbuDZOS"
   },
   "outputs": [],
   "source": [
    "#Data processing\n",
    "from sklearn.preprocessing import OneHotEncoder\n",
    "from sklearn.preprocessing import LabelEncoder\n",
    "\n",
    "from imblearn.over_sampling import SMOTE\n",
    "\n",
    "from sklearn.model_selection import train_test_split\n",
    "from sklearn.compose import ColumnTransformer\n",
    "\n",
    "#Model performance metrics\n",
    "from time import process_time\n",
    "from memory_profiler import profile\n",
    "from sklearn.metrics import confusion_matrix\n",
    "from sklearn.metrics import classification_report\n",
    "\n",
    "#Feature selection and models\n",
    "from sklearn.tree import DecisionTreeClassifier\n",
    "from sklearn.ensemble import RandomForestClassifier\n",
    "from sklearn.linear_model import LogisticRegression\n",
    "from sklearn.feature_selection import RFE\n",
    "\n",
    "#Data scaling\n",
    "from sklearn.preprocessing import MinMaxScaler\n",
    "from sklearn.preprocessing import StandardScaler"
   ]
  },
  {
   "cell_type": "code",
   "execution_count": 3,
   "metadata": {
    "colab": {
     "base_uri": "https://localhost:8080/"
    },
    "id": "qRayOOa27vlN",
    "outputId": "b02b6c15-4c62-4bff-cc23-58223319aae3"
   },
   "outputs": [],
   "source": [
    "%load_ext memory_profiler"
   ]
  },
  {
   "cell_type": "markdown",
   "metadata": {
    "id": "nAw_7sExv1Ex"
   },
   "source": [
    "Import Data and Apply SMOTE Oversampling"
   ]
  },
  {
   "cell_type": "code",
   "execution_count": 4,
   "metadata": {
    "id": "e0ybtCy0DT-d"
   },
   "outputs": [],
   "source": [
    "#https://archive.ics.uci.edu/dataset/468/online+shoppers+purchasing+intention+dataset\n",
    "\n",
    "import pandas as pd\n",
    "import numpy as np\n",
    "import matplotlib.pyplot as plt\n",
    "\n",
    "df = pd.read_csv(\"online_shoppers_intention.csv\")"
   ]
  },
  {
   "cell_type": "code",
   "execution_count": 5,
   "metadata": {
    "id": "M7bcSkdgvdKc"
   },
   "outputs": [],
   "source": [
    "#Identify categorical attributes\n",
    "categorical_features = [\"Month\", \"OperatingSystems\", \"Browser\", \"Region\", \"TrafficType\", \"VisitorType\", \"Weekend\"]\n",
    "df_cat = df[categorical_features]\n",
    "\n",
    "df_onehot = pd.get_dummies(df, columns = categorical_features, prefix = categorical_features)\n",
    "\n",
    "#Tranform categorical attributes\n",
    "label_encoder = LabelEncoder()\n",
    "df_onehot['Revenue'] = label_encoder.fit_transform(df['Revenue'])"
   ]
  },
  {
   "cell_type": "code",
   "execution_count": 6,
   "metadata": {
    "id": "EJYETxI8vqa_"
   },
   "outputs": [],
   "source": [
    "#Specify independent/ dependent values\n",
    "X = df_onehot.drop(columns = \"Revenue\")\n",
    "y = df_onehot[\"Revenue\"]\n",
    "\n",
    "#Split the Data\n",
    "X_train, X_test, y_train, y_test = train_test_split(X, y, test_size = 0.3)\n",
    "\n",
    "smote = SMOTE()\n",
    "X_train_smote, y_train_smote = smote.fit_resample(X_train, y_train)"
   ]
  },
  {
   "cell_type": "markdown",
   "metadata": {
    "id": "Xs9C9k_xpavs"
   },
   "source": [
    "Model Functions"
   ]
  },
  {
   "cell_type": "code",
   "execution_count": 7,
   "metadata": {
    "id": "r8av2UQK629-"
   },
   "outputs": [],
   "source": [
    "#Decision Tree Function\n",
    "def DTClassifier(X_train, y_train, X_test, y_test):\n",
    "  #Initialize the DecisionTreeClassifier\n",
    "  tree_raw_imbalanced = DecisionTreeClassifier(criterion = \"entropy\")\n",
    "\n",
    "  #Time Measurement\n",
    "  start_time = process_time()\n",
    "\n",
    "  #Fit the Classifier to the data\n",
    "  tree_raw_imbalanced.fit(X_train, y_train)\n",
    "\n",
    "  #Predict new Data\n",
    "  y_pred = tree_raw_imbalanced.predict(X_test)\n",
    "\n",
    "  #Time Measurement\n",
    "  end_time = process_time()\n",
    "\n",
    "  #Results\n",
    "  cr = classification_report(y_test, y_pred)\n",
    "  cm = confusion_matrix(y_test, y_pred)\n",
    "  time = end_time - start_time\n",
    "  print(cr)\n",
    "  print(cm)\n",
    "  print(time)"
   ]
  },
  {
   "cell_type": "code",
   "execution_count": 8,
   "metadata": {
    "id": "7QNyEVrFpdRC"
   },
   "outputs": [],
   "source": [
    "#Random Forest Model\n",
    "def RFClassifier(X_train, y_train, X_test, y_test):\n",
    "  #Initialize the Random Forest Classifier\n",
    "  forest_raw_imbalanced = RandomForestClassifier(n_estimators = 100)\n",
    "\n",
    "  #Time Measurement\n",
    "  start_time = process_time()\n",
    "\n",
    "  #Fit the classifier to the data\n",
    "  forest_raw_imbalanced.fit(X_train, y_train)\n",
    "\n",
    "  #Predict new Data\n",
    "  y_pred = forest_raw_imbalanced.predict(X_test)\n",
    "\n",
    "  #Time Measurement\n",
    "  end_time = process_time()\n",
    "\n",
    "  #Results\n",
    "  cr = classification_report(y_test, y_pred)\n",
    "  cm = confusion_matrix(y_test, y_pred)\n",
    "  time = end_time - start_time\n",
    "  print(cr)\n",
    "  print(cm)\n",
    "  print(time)"
   ]
  },
  {
   "cell_type": "code",
   "execution_count": 9,
   "metadata": {
    "id": "MqCXv9ufphF5"
   },
   "outputs": [],
   "source": [
    "#Logistic Regression Model\n",
    "def LRClassifier(X_train, y_train, X_test, y_test):\n",
    "  #Initialize the Logistic Regression Classifier\n",
    "  lr_raw_imbalanced = LogisticRegression(max_iter = 1000)\n",
    "\n",
    "  #Time Measurement\n",
    "  start_time = process_time()\n",
    "\n",
    "  #Fit the classifier to the data\n",
    "  lr_raw_imbalanced.fit(X_train, y_train)\n",
    "\n",
    "  #Predict new Data\n",
    "  y_pred = lr_raw_imbalanced.predict(X_test)\n",
    "\n",
    "  #Time Measurement\n",
    "  end_time = process_time()\n",
    "\n",
    "  #Results\n",
    "  cr = classification_report(y_test, y_pred)\n",
    "  cm = confusion_matrix(y_test, y_pred)\n",
    "  time = end_time - start_time\n",
    "  print(cr)\n",
    "  print(cm)\n",
    "  print(time)"
   ]
  },
  {
   "cell_type": "markdown",
   "metadata": {
    "id": "fzh0Vok2wXf2"
   },
   "source": [
    "Feature Selection"
   ]
  },
  {
   "cell_type": "markdown",
   "metadata": {},
   "source": [
    "Control (all features)"
   ]
  },
  {
   "cell_type": "code",
   "execution_count": 10,
   "metadata": {},
   "outputs": [
    {
     "name": "stdout",
     "output_type": "stream",
     "text": [
      "              precision    recall  f1-score   support\n",
      "\n",
      "           0       0.92      0.92      0.92      3094\n",
      "           1       0.58      0.59      0.58       605\n",
      "\n",
      "    accuracy                           0.86      3699\n",
      "   macro avg       0.75      0.75      0.75      3699\n",
      "weighted avg       0.86      0.86      0.86      3699\n",
      "\n",
      "[[2834  260]\n",
      " [ 249  356]]\n",
      "0.109375\n",
      "peak memory: 187.00 MiB, increment: 7.80 MiB\n"
     ]
    }
   ],
   "source": [
    "%memit DTClassifier(X_train_smote, y_train_smote, X_test, y_test)"
   ]
  },
  {
   "cell_type": "code",
   "execution_count": 11,
   "metadata": {},
   "outputs": [
    {
     "name": "stdout",
     "output_type": "stream",
     "text": [
      "              precision    recall  f1-score   support\n",
      "\n",
      "           0       0.93      0.96      0.94      3094\n",
      "           1       0.73      0.61      0.66       605\n",
      "\n",
      "    accuracy                           0.90      3699\n",
      "   macro avg       0.83      0.78      0.80      3699\n",
      "weighted avg       0.89      0.90      0.90      3699\n",
      "\n",
      "[[2959  135]\n",
      " [ 238  367]]\n",
      "1.3125\n",
      "peak memory: 205.48 MiB, increment: 22.58 MiB\n"
     ]
    }
   ],
   "source": [
    "%memit RFClassifier(X_train_smote, y_train_smote, X_test, y_test)"
   ]
  },
  {
   "cell_type": "code",
   "execution_count": 12,
   "metadata": {},
   "outputs": [
    {
     "name": "stdout",
     "output_type": "stream",
     "text": [
      "              precision    recall  f1-score   support\n",
      "\n",
      "           0       0.90      0.97      0.93      3094\n",
      "           1       0.70      0.42      0.53       605\n",
      "\n",
      "    accuracy                           0.88      3699\n",
      "   macro avg       0.80      0.69      0.73      3699\n",
      "weighted avg       0.86      0.88      0.86      3699\n",
      "\n",
      "[[2986  108]\n",
      " [ 349  256]]\n",
      "0.875\n",
      "peak memory: 191.01 MiB, increment: 9.47 MiB\n"
     ]
    },
    {
     "name": "stderr",
     "output_type": "stream",
     "text": [
      "C:\\Users\\david\\AppData\\Roaming\\Python\\Python39\\site-packages\\sklearn\\linear_model\\_logistic.py:458: ConvergenceWarning: lbfgs failed to converge (status=1):\n",
      "STOP: TOTAL NO. of ITERATIONS REACHED LIMIT.\n",
      "\n",
      "Increase the number of iterations (max_iter) or scale the data as shown in:\n",
      "    https://scikit-learn.org/stable/modules/preprocessing.html\n",
      "Please also refer to the documentation for alternative solver options:\n",
      "    https://scikit-learn.org/stable/modules/linear_model.html#logistic-regression\n",
      "  n_iter_i = _check_optimize_result(\n"
     ]
    }
   ],
   "source": [
    "%memit LRClassifier(X_train_smote, y_train_smote, X_test, y_test)"
   ]
  },
  {
   "cell_type": "markdown",
   "metadata": {
    "id": "24g_jOD3wbql"
   },
   "source": [
    "Pearson Correlation (Filter method)"
   ]
  },
  {
   "cell_type": "code",
   "execution_count": 13,
   "metadata": {
    "colab": {
     "base_uri": "https://localhost:8080/",
     "height": 1000
    },
    "id": "6raZ-9hQwbQr",
    "outputId": "f63b8edb-fe00-4509-8501-dd340f160e23"
   },
   "outputs": [
    {
     "data": {
      "text/plain": [
       "<AxesSubplot:>"
      ]
     },
     "execution_count": 13,
     "metadata": {},
     "output_type": "execute_result"
    },
    {
     "data": {
      "image/png": "[encoded data removed]",
      "text/plain": [
       "<Figure size 1080x1080 with 2 Axes>"
      ]
     },
     "metadata": {
      "needs_background": "light"
     },
     "output_type": "display_data"
    }
   ],
   "source": [
    "import seaborn as sns\n",
    "\n",
    "#Correlation of Onehot encoded dataset\n",
    "\n",
    "corr = df_onehot.corr()\n",
    "f, ax = plt.subplots(figsize = (15, 15))\n",
    "cmap = sns.diverging_palette(230,20, as_cmap = True)\n",
    "sns.heatmap(corr, annot = False, cmap = cmap)"
   ]
  },
  {
   "cell_type": "code",
   "execution_count": 14,
   "metadata": {
    "colab": {
     "base_uri": "https://localhost:8080/"
    },
    "id": "03--vvrW1F0W",
    "outputId": "7ab458d5-1ded-4458-dde7-64d9cbe953a9"
   },
   "outputs": [
    {
     "name": "stdout",
     "output_type": "stream",
     "text": [
      "Revenue               1.000000\n",
      "PageValues            0.492569\n",
      "ExitRates             0.207071\n",
      "ProductRelated        0.158538\n",
      "Month_Nov             0.154774\n",
      "                        ...   \n",
      "Browser_11            0.000727\n",
      "OperatingSystems_5    0.000727\n",
      "TrafficType_4         0.000336\n",
      "Browser_8             0.000236\n",
      "TrafficType_14        0.000081\n",
      "Name: Revenue, Length: 76, dtype: float64\n"
     ]
    }
   ],
   "source": [
    "revenue_correlation = corr[\"Revenue\"]\n",
    "sorted_pearson_correlation = revenue_correlation.abs().sort_values(ascending = False)\n",
    "print(sorted_pearson_correlation)"
   ]
  },
  {
   "cell_type": "code",
   "execution_count": 34,
   "metadata": {},
   "outputs": [
    {
     "name": "stdout",
     "output_type": "stream",
     "text": [
      "                                Revenue\n",
      "Revenue                        1.000000\n",
      "PageValues                     0.492569\n",
      "ExitRates                      0.207071\n",
      "ProductRelated                 0.158538\n",
      "Month_Nov                      0.154774\n",
      "ProductRelated_Duration        0.152373\n",
      "BounceRates                    0.150673\n",
      "Administrative                 0.138917\n",
      "TrafficType_2                  0.116347\n",
      "VisitorType_New_Visitor        0.104136\n",
      "VisitorType_Returning_Visitor  0.103843\n",
      "Informational                  0.095200\n",
      "Administrative_Duration        0.093587\n",
      "TrafficType_3                  0.082808\n",
      "SpecialDay                     0.082305\n",
      "Month_May                      0.078320\n",
      "OperatingSystems_3             0.070472\n",
      "Informational_Duration         0.070345\n",
      "TrafficType_13                 0.067310\n",
      "TrafficType_1                  0.065901\n",
      "Month_Mar                      0.063941\n",
      "OperatingSystems_2             0.060040\n",
      "TrafficType_8                  0.057167\n",
      "Month_Feb                      0.047114\n",
      "TrafficType_20                 0.034540\n",
      "Month_Dec                      0.033112\n",
      "Month_Oct                      0.032666\n",
      "Weekend_True                   0.029295\n",
      "Weekend_False                  0.029295\n",
      "Browser_3                      0.027451\n",
      "TrafficType_5                  0.024609\n",
      "TrafficType_10                 0.024354\n",
      "TrafficType_15                 0.023790\n",
      "Month_June                     0.023112\n",
      "TrafficType_7                  0.022913\n",
      "Browser_13                     0.020969\n",
      "Month_Sep                      0.019983\n",
      "TrafficType_6                  0.018905\n",
      "Browser_5                      0.016134\n",
      "Browser_4                      0.015247\n",
      "Region_1                       0.014416\n",
      "TrafficType_11                 0.014050\n",
      "Region_8                       0.013579\n",
      "OperatingSystems_8             0.013421\n",
      "Browser_10                     0.013305\n",
      "Browser_6                      0.013167\n",
      "Region_3                       0.012937\n",
      "OperatingSystems_4             0.012816\n",
      "TrafficType_18                 0.012190\n",
      "OperatingSystems_1             0.011577\n",
      "Browser_12                     0.011443\n",
      "Region_6                       0.011410\n",
      "Month_Aug                      0.010959\n",
      "TrafficType_19                 0.009855\n",
      "TrafficType_9                  0.009619\n",
      "Region_2                       0.009468\n",
      "Browser_1                      0.008965\n",
      "Region_9                       0.007792\n",
      "VisitorType_Other              0.007715\n",
      "TrafficType_16                 0.007703\n",
      "Region_4                       0.006024\n",
      "Browser_7                      0.005641\n",
      "OperatingSystems_6             0.005375\n",
      "Browser_2                      0.004183\n",
      "Region_5                       0.003949\n",
      "Browser_9                      0.003853\n",
      "TrafficType_12                 0.003853\n",
      "TrafficType_17                 0.003853\n",
      "Region_7                       0.001155\n",
      "Month_Jul                      0.001036\n",
      "OperatingSystems_7             0.000783\n",
      "Browser_11                     0.000727\n",
      "OperatingSystems_5             0.000727\n",
      "TrafficType_4                  0.000336\n",
      "Browser_8                      0.000236\n",
      "TrafficType_14                 0.000081\n"
     ]
    }
   ],
   "source": [
    "pearson_df = pd.DataFrame(sorted_pearson_correlation)\n",
    "pd.set_option('display.max_rows', None)\n",
    "print(pearson_df)"
   ]
  },
  {
   "cell_type": "code",
   "execution_count": 15,
   "metadata": {
    "id": "NnxclyM6yEkn"
   },
   "outputs": [],
   "source": [
    "#Filter out for attributes with correlation > 0.09\n",
    "filtered_correlation = sorted_pearson_correlation[sorted_pearson_correlation > 0.09]\n",
    "filtered_attributes = filtered_correlation.index.tolist()\n",
    "df_pearson = df_onehot[filtered_attributes]"
   ]
  },
  {
   "cell_type": "code",
   "execution_count": 16,
   "metadata": {
    "id": "C1l5IrKtFFQi"
   },
   "outputs": [],
   "source": [
    "#12 attributes (Onehot encoded) are kept"
   ]
  },
  {
   "cell_type": "code",
   "execution_count": 17,
   "metadata": {
    "colab": {
     "base_uri": "https://localhost:8080/"
    },
    "id": "B8cljdUD5Dtm",
    "outputId": "21433855-9b63-40c1-d855-be784984ca3c"
   },
   "outputs": [
    {
     "name": "stderr",
     "output_type": "stream",
     "text": [
      "C:\\Users\\david\\AppData\\Local\\Temp/ipykernel_14448/764811756.py:3: SettingWithCopyWarning: \n",
      "A value is trying to be set on a copy of a slice from a DataFrame.\n",
      "Try using .loc[row_indexer,col_indexer] = value instead\n",
      "\n",
      "See the caveats in the documentation: https://pandas.pydata.org/pandas-docs/stable/user_guide/indexing.html#returning-a-view-versus-a-copy\n",
      "  df_pearson['Revenue'] = label_encoder.fit_transform(df_pearson['Revenue'])\n"
     ]
    }
   ],
   "source": [
    "#Tranform categorical attributes\n",
    "label_encoder = LabelEncoder()\n",
    "df_pearson['Revenue'] = label_encoder.fit_transform(df_pearson['Revenue'])"
   ]
  },
  {
   "cell_type": "code",
   "execution_count": 18,
   "metadata": {
    "id": "J3Qtx7py5EfG"
   },
   "outputs": [],
   "source": [
    "#Specify independent/ dependent values\n",
    "X_p = df_pearson.drop(columns = \"Revenue\")\n",
    "y_p = df_pearson[\"Revenue\"]\n",
    "\n",
    "#Split the Data\n",
    "X_p_train, X_p_test, y_p_train, y_p_test = train_test_split(X_p, y_p, test_size = 0.3)\n",
    "\n",
    "smote = SMOTE()\n",
    "X_p_train_smote, y_p_train_smote = smote.fit_resample(X_p_train, y_p_train)"
   ]
  },
  {
   "cell_type": "code",
   "execution_count": 19,
   "metadata": {
    "colab": {
     "base_uri": "https://localhost:8080/"
    },
    "id": "Taiw6NDu71Wt",
    "outputId": "9c6a963a-0beb-46a8-cc78-9595ac8de1b9"
   },
   "outputs": [
    {
     "name": "stdout",
     "output_type": "stream",
     "text": [
      "              precision    recall  f1-score   support\n",
      "\n",
      "           0       0.93      0.88      0.91      3111\n",
      "           1       0.52      0.66      0.58       588\n",
      "\n",
      "    accuracy                           0.85      3699\n",
      "   macro avg       0.73      0.77      0.75      3699\n",
      "weighted avg       0.87      0.85      0.86      3699\n",
      "\n",
      "[[2750  361]\n",
      " [ 197  391]]\n",
      "0.09375\n",
      "peak memory: 200.00 MiB, increment: 0.06 MiB\n"
     ]
    }
   ],
   "source": [
    "%memit DTClassifier(X_p_train_smote, y_p_train_smote, X_p_test, y_p_test)"
   ]
  },
  {
   "cell_type": "code",
   "execution_count": 20,
   "metadata": {
    "colab": {
     "base_uri": "https://localhost:8080/"
    },
    "id": "dafQ_uMgpsJz",
    "outputId": "2ceae0d8-2152-4824-984e-c83caa6d7db0"
   },
   "outputs": [
    {
     "name": "stdout",
     "output_type": "stream",
     "text": [
      "              precision    recall  f1-score   support\n",
      "\n",
      "           0       0.95      0.90      0.93      3111\n",
      "           1       0.60      0.76      0.67       588\n",
      "\n",
      "    accuracy                           0.88      3699\n",
      "   macro avg       0.77      0.83      0.80      3699\n",
      "weighted avg       0.90      0.88      0.89      3699\n",
      "\n",
      "[[2811  300]\n",
      " [ 143  445]]\n",
      "1.53125\n",
      "peak memory: 216.50 MiB, increment: 16.51 MiB\n"
     ]
    }
   ],
   "source": [
    "%memit RFClassifier(X_p_train_smote, y_p_train_smote, X_p_test, y_p_test)"
   ]
  },
  {
   "cell_type": "code",
   "execution_count": 21,
   "metadata": {
    "colab": {
     "base_uri": "https://localhost:8080/"
    },
    "id": "WlYYg8KnpxfL",
    "outputId": "5c44c281-71fe-408d-ae56-5623d01748ba"
   },
   "outputs": [
    {
     "name": "stdout",
     "output_type": "stream",
     "text": [
      "              precision    recall  f1-score   support\n",
      "\n",
      "           0       0.94      0.91      0.93      3111\n",
      "           1       0.59      0.70      0.64       588\n",
      "\n",
      "    accuracy                           0.88      3699\n",
      "   macro avg       0.77      0.81      0.78      3699\n",
      "weighted avg       0.89      0.88      0.88      3699\n",
      "\n",
      "[[2828  283]\n",
      " [ 174  414]]\n",
      "0.4375\n",
      "peak memory: 199.15 MiB, increment: 2.31 MiB\n"
     ]
    }
   ],
   "source": [
    "%memit LRClassifier(X_p_train_smote, y_p_train_smote, X_p_test, y_p_test)"
   ]
  },
  {
   "cell_type": "markdown",
   "metadata": {
    "id": "YPSNClKa-5O5"
   },
   "source": [
    "Random Forest (Embedded method)"
   ]
  },
  {
   "cell_type": "code",
   "execution_count": 22,
   "metadata": {
    "colab": {
     "base_uri": "https://localhost:8080/"
    },
    "id": "ST36MiNm7_nS",
    "outputId": "58065db6-dba8-4f70-8613-4b62a1fb57eb"
   },
   "outputs": [
    {
     "name": "stdout",
     "output_type": "stream",
     "text": [
      "Feature 1: 0.36787854081363947\n",
      "Feature 2: 0.06243003947931147\n",
      "Feature 3: 0.05446832323224609\n",
      "Feature 4: 0.043819927872796115\n",
      "Feature 5: 0.04294536947309589\n",
      "Feature 6: 0.0372572823643368\n",
      "Feature 7: 0.03339749744717403\n",
      "Feature 8: 0.024471857608361576\n",
      "Feature 9: 0.02165045924707186\n",
      "Feature 10: 0.01871185176654437\n",
      "Feature 11: 0.018551333367777385\n",
      "Feature 12: 0.017650780800821053\n",
      "Feature 13: 0.0171954341244421\n",
      "Feature 14: 0.01639640652922472\n",
      "Feature 15: 0.014360523218011245\n",
      "Feature 16: 0.014212251724678084\n",
      "Feature 17: 0.013756927910512659\n",
      "Feature 18: 0.012598031908831245\n",
      "Feature 19: 0.01150761985709055\n",
      "Feature 20: 0.011355676019245864\n",
      "Feature 21: 0.010592251989053541\n",
      "Feature 22: 0.010001241990016452\n",
      "Feature 23: 0.00995864356679853\n",
      "Feature 24: 0.009791539634193151\n",
      "Feature 25: 0.009483931068226857\n",
      "Feature 26: 0.008040192339796588\n",
      "Feature 27: 0.007540705489240674\n",
      "Feature 28: 0.006381705297458913\n",
      "Feature 29: 0.005017530420213831\n",
      "Feature 30: 0.0046581051081313685\n",
      "Feature 31: 0.004655065827217216\n",
      "Feature 32: 0.004481949127992831\n",
      "Feature 33: 0.0042054320279015555\n",
      "Feature 34: 0.003939794488781857\n",
      "Feature 35: 0.0035107366541335685\n",
      "Feature 36: 0.0034993680309095827\n",
      "Feature 37: 0.0034957581141768688\n",
      "Feature 38: 0.0030847141964021837\n",
      "Feature 39: 0.0029779787246534423\n",
      "Feature 40: 0.002797994396243277\n",
      "Feature 41: 0.0027923455055593716\n",
      "Feature 42: 0.0025073664251235197\n",
      "Feature 43: 0.002217365650760255\n",
      "Feature 44: 0.002186035848069879\n",
      "Feature 45: 0.001967994915338521\n",
      "Feature 46: 0.001872212216413094\n",
      "Feature 47: 0.0018587445158468336\n",
      "Feature 48: 0.0016860909066612258\n",
      "Feature 49: 0.001558345188329243\n",
      "Feature 50: 0.0013729902234910036\n",
      "Feature 51: 0.0011461915721687904\n",
      "Feature 52: 0.001089038671696144\n",
      "Feature 53: 0.001056947776834172\n",
      "Feature 54: 0.0006330633929308858\n",
      "Feature 55: 0.0006330253752688166\n",
      "Feature 56: 0.0005001016779294842\n",
      "Feature 57: 0.00040878539145503955\n",
      "Feature 58: 0.0003967710287300354\n",
      "Feature 59: 0.0003493431719220509\n",
      "Feature 60: 0.0002865175521901823\n",
      "Feature 61: 0.00017453655133492133\n",
      "Feature 62: 0.0001139211146733659\n",
      "Feature 63: 9.571438864228675e-05\n",
      "Feature 64: 8.626017673505925e-05\n",
      "Feature 65: 6.301876522447866e-05\n",
      "Feature 66: 6.12671156737468e-05\n",
      "Feature 67: 4.780413158480721e-05\n",
      "Feature 68: 3.857290595943882e-05\n",
      "Feature 69: 2.4793884421558126e-05\n",
      "Feature 70: 1.7611346866195077e-05\n",
      "Feature 71: 1.3326621500469135e-05\n",
      "Feature 72: 8.08620143089314e-06\n",
      "Feature 73: 4.9888245495481e-06\n",
      "Feature 74: 4.770792980990993e-08\n",
      "Feature 75: 0.0\n"
     ]
    }
   ],
   "source": [
    "from sklearn.ensemble import RandomForestClassifier\n",
    "\n",
    "rf_classifier = RandomForestClassifier()\n",
    "\n",
    "#Fit random forest classifier\n",
    "rf_classifier.fit(X_train_smote, y_train_smote)\n",
    "\n",
    "feature_importances = rf_classifier.feature_importances_\n",
    "\n",
    "rf_df = pd.DataFrame({\"Feature\": X_train_smote.columns, \"Importance\": feature_importances})\n",
    "\n",
    "sorted_features = np.argsort(feature_importances)[::-1]\n",
    "\n",
    "for i, idx in enumerate(sorted_features):\n",
    "    print(f\"Feature {i+1}: {feature_importances[idx]}\")"
   ]
  },
  {
   "cell_type": "code",
   "execution_count": 31,
   "metadata": {
    "colab": {
     "base_uri": "https://localhost:8080/",
     "height": 424
    },
    "id": "XIFylh0x-__s",
    "outputId": "3e3798a9-77c2-49c1-cabd-f2c1d2b607bd"
   },
   "outputs": [
    {
     "data": {
      "text/html": [
       "<div>\n",
       "<style scoped>\n",
       "    .dataframe tbody tr th:only-of-type {\n",
       "        vertical-align: middle;\n",
       "    }\n",
       "\n",
       "    .dataframe tbody tr th {\n",
       "        vertical-align: top;\n",
       "    }\n",
       "\n",
       "    .dataframe thead th {\n",
       "        text-align: right;\n",
       "    }\n",
       "</style>\n",
       "<table border=\"1\" class=\"dataframe\">\n",
       "  <thead>\n",
       "    <tr style=\"text-align: right;\">\n",
       "      <th></th>\n",
       "      <th>Feature</th>\n",
       "      <th>Importance</th>\n",
       "    </tr>\n",
       "  </thead>\n",
       "  <tbody>\n",
       "    <tr>\n",
       "      <th>0</th>\n",
       "      <td>PageValues</td>\n",
       "      <td>3.678785e-01</td>\n",
       "    </tr>\n",
       "    <tr>\n",
       "      <th>1</th>\n",
       "      <td>ExitRates</td>\n",
       "      <td>6.243004e-02</td>\n",
       "    </tr>\n",
       "    <tr>\n",
       "      <th>2</th>\n",
       "      <td>ProductRelated_Duration</td>\n",
       "      <td>5.446832e-02</td>\n",
       "    </tr>\n",
       "    <tr>\n",
       "      <th>3</th>\n",
       "      <td>Administrative_Duration</td>\n",
       "      <td>4.381993e-02</td>\n",
       "    </tr>\n",
       "    <tr>\n",
       "      <th>4</th>\n",
       "      <td>ProductRelated</td>\n",
       "      <td>4.294537e-02</td>\n",
       "    </tr>\n",
       "    <tr>\n",
       "      <th>5</th>\n",
       "      <td>BounceRates</td>\n",
       "      <td>3.725728e-02</td>\n",
       "    </tr>\n",
       "    <tr>\n",
       "      <th>6</th>\n",
       "      <td>Month_May</td>\n",
       "      <td>3.339750e-02</td>\n",
       "    </tr>\n",
       "    <tr>\n",
       "      <th>7</th>\n",
       "      <td>Administrative</td>\n",
       "      <td>2.447186e-02</td>\n",
       "    </tr>\n",
       "    <tr>\n",
       "      <th>8</th>\n",
       "      <td>OperatingSystems_3</td>\n",
       "      <td>2.165046e-02</td>\n",
       "    </tr>\n",
       "    <tr>\n",
       "      <th>9</th>\n",
       "      <td>VisitorType_Returning_Visitor</td>\n",
       "      <td>1.871185e-02</td>\n",
       "    </tr>\n",
       "    <tr>\n",
       "      <th>10</th>\n",
       "      <td>Month_Dec</td>\n",
       "      <td>1.855133e-02</td>\n",
       "    </tr>\n",
       "    <tr>\n",
       "      <th>11</th>\n",
       "      <td>TrafficType_1</td>\n",
       "      <td>1.765078e-02</td>\n",
       "    </tr>\n",
       "    <tr>\n",
       "      <th>12</th>\n",
       "      <td>Informational_Duration</td>\n",
       "      <td>1.719543e-02</td>\n",
       "    </tr>\n",
       "    <tr>\n",
       "      <th>13</th>\n",
       "      <td>Month_Mar</td>\n",
       "      <td>1.639641e-02</td>\n",
       "    </tr>\n",
       "    <tr>\n",
       "      <th>14</th>\n",
       "      <td>Browser_2</td>\n",
       "      <td>1.436052e-02</td>\n",
       "    </tr>\n",
       "    <tr>\n",
       "      <th>15</th>\n",
       "      <td>OperatingSystems_1</td>\n",
       "      <td>1.421225e-02</td>\n",
       "    </tr>\n",
       "    <tr>\n",
       "      <th>16</th>\n",
       "      <td>TrafficType_3</td>\n",
       "      <td>1.375693e-02</td>\n",
       "    </tr>\n",
       "    <tr>\n",
       "      <th>17</th>\n",
       "      <td>Weekend_True</td>\n",
       "      <td>1.259803e-02</td>\n",
       "    </tr>\n",
       "    <tr>\n",
       "      <th>18</th>\n",
       "      <td>OperatingSystems_2</td>\n",
       "      <td>1.150762e-02</td>\n",
       "    </tr>\n",
       "    <tr>\n",
       "      <th>19</th>\n",
       "      <td>Weekend_False</td>\n",
       "      <td>1.135568e-02</td>\n",
       "    </tr>\n",
       "    <tr>\n",
       "      <th>20</th>\n",
       "      <td>Browser_1</td>\n",
       "      <td>1.059225e-02</td>\n",
       "    </tr>\n",
       "    <tr>\n",
       "      <th>21</th>\n",
       "      <td>Region_1</td>\n",
       "      <td>1.000124e-02</td>\n",
       "    </tr>\n",
       "    <tr>\n",
       "      <th>22</th>\n",
       "      <td>Region_3</td>\n",
       "      <td>9.958644e-03</td>\n",
       "    </tr>\n",
       "    <tr>\n",
       "      <th>23</th>\n",
       "      <td>TrafficType_2</td>\n",
       "      <td>9.791540e-03</td>\n",
       "    </tr>\n",
       "    <tr>\n",
       "      <th>24</th>\n",
       "      <td>Informational</td>\n",
       "      <td>9.483931e-03</td>\n",
       "    </tr>\n",
       "    <tr>\n",
       "      <th>25</th>\n",
       "      <td>Month_Nov</td>\n",
       "      <td>8.040192e-03</td>\n",
       "    </tr>\n",
       "    <tr>\n",
       "      <th>26</th>\n",
       "      <td>TrafficType_4</td>\n",
       "      <td>7.540705e-03</td>\n",
       "    </tr>\n",
       "    <tr>\n",
       "      <th>27</th>\n",
       "      <td>VisitorType_New_Visitor</td>\n",
       "      <td>6.381705e-03</td>\n",
       "    </tr>\n",
       "    <tr>\n",
       "      <th>28</th>\n",
       "      <td>TrafficType_13</td>\n",
       "      <td>5.017530e-03</td>\n",
       "    </tr>\n",
       "    <tr>\n",
       "      <th>29</th>\n",
       "      <td>Region_4</td>\n",
       "      <td>4.658105e-03</td>\n",
       "    </tr>\n",
       "    <tr>\n",
       "      <th>30</th>\n",
       "      <td>Region_2</td>\n",
       "      <td>4.655066e-03</td>\n",
       "    </tr>\n",
       "    <tr>\n",
       "      <th>31</th>\n",
       "      <td>SpecialDay</td>\n",
       "      <td>4.481949e-03</td>\n",
       "    </tr>\n",
       "    <tr>\n",
       "      <th>32</th>\n",
       "      <td>Browser_4</td>\n",
       "      <td>4.205432e-03</td>\n",
       "    </tr>\n",
       "    <tr>\n",
       "      <th>33</th>\n",
       "      <td>Region_7</td>\n",
       "      <td>3.939794e-03</td>\n",
       "    </tr>\n",
       "    <tr>\n",
       "      <th>34</th>\n",
       "      <td>Month_Oct</td>\n",
       "      <td>3.510737e-03</td>\n",
       "    </tr>\n",
       "    <tr>\n",
       "      <th>35</th>\n",
       "      <td>Region_6</td>\n",
       "      <td>3.499368e-03</td>\n",
       "    </tr>\n",
       "    <tr>\n",
       "      <th>36</th>\n",
       "      <td>Month_Sep</td>\n",
       "      <td>3.495758e-03</td>\n",
       "    </tr>\n",
       "    <tr>\n",
       "      <th>37</th>\n",
       "      <td>Region_9</td>\n",
       "      <td>3.084714e-03</td>\n",
       "    </tr>\n",
       "    <tr>\n",
       "      <th>38</th>\n",
       "      <td>OperatingSystems_4</td>\n",
       "      <td>2.977979e-03</td>\n",
       "    </tr>\n",
       "    <tr>\n",
       "      <th>39</th>\n",
       "      <td>Month_Aug</td>\n",
       "      <td>2.797994e-03</td>\n",
       "    </tr>\n",
       "    <tr>\n",
       "      <th>40</th>\n",
       "      <td>Month_Jul</td>\n",
       "      <td>2.792346e-03</td>\n",
       "    </tr>\n",
       "    <tr>\n",
       "      <th>41</th>\n",
       "      <td>TrafficType_6</td>\n",
       "      <td>2.507366e-03</td>\n",
       "    </tr>\n",
       "    <tr>\n",
       "      <th>42</th>\n",
       "      <td>Region_8</td>\n",
       "      <td>2.217366e-03</td>\n",
       "    </tr>\n",
       "    <tr>\n",
       "      <th>43</th>\n",
       "      <td>Browser_5</td>\n",
       "      <td>2.186036e-03</td>\n",
       "    </tr>\n",
       "    <tr>\n",
       "      <th>44</th>\n",
       "      <td>Region_5</td>\n",
       "      <td>1.967995e-03</td>\n",
       "    </tr>\n",
       "    <tr>\n",
       "      <th>45</th>\n",
       "      <td>TrafficType_8</td>\n",
       "      <td>1.872212e-03</td>\n",
       "    </tr>\n",
       "    <tr>\n",
       "      <th>46</th>\n",
       "      <td>Month_June</td>\n",
       "      <td>1.858745e-03</td>\n",
       "    </tr>\n",
       "    <tr>\n",
       "      <th>47</th>\n",
       "      <td>TrafficType_10</td>\n",
       "      <td>1.686091e-03</td>\n",
       "    </tr>\n",
       "    <tr>\n",
       "      <th>48</th>\n",
       "      <td>TrafficType_5</td>\n",
       "      <td>1.558345e-03</td>\n",
       "    </tr>\n",
       "    <tr>\n",
       "      <th>49</th>\n",
       "      <td>Browser_6</td>\n",
       "      <td>1.372990e-03</td>\n",
       "    </tr>\n",
       "    <tr>\n",
       "      <th>50</th>\n",
       "      <td>Browser_10</td>\n",
       "      <td>1.146192e-03</td>\n",
       "    </tr>\n",
       "    <tr>\n",
       "      <th>51</th>\n",
       "      <td>TrafficType_11</td>\n",
       "      <td>1.089039e-03</td>\n",
       "    </tr>\n",
       "    <tr>\n",
       "      <th>52</th>\n",
       "      <td>TrafficType_20</td>\n",
       "      <td>1.056948e-03</td>\n",
       "    </tr>\n",
       "    <tr>\n",
       "      <th>53</th>\n",
       "      <td>Browser_8</td>\n",
       "      <td>6.330634e-04</td>\n",
       "    </tr>\n",
       "    <tr>\n",
       "      <th>54</th>\n",
       "      <td>OperatingSystems_8</td>\n",
       "      <td>6.330254e-04</td>\n",
       "    </tr>\n",
       "    <tr>\n",
       "      <th>55</th>\n",
       "      <td>VisitorType_Other</td>\n",
       "      <td>5.001017e-04</td>\n",
       "    </tr>\n",
       "    <tr>\n",
       "      <th>56</th>\n",
       "      <td>TrafficType_7</td>\n",
       "      <td>4.087854e-04</td>\n",
       "    </tr>\n",
       "    <tr>\n",
       "      <th>57</th>\n",
       "      <td>Month_Feb</td>\n",
       "      <td>3.967710e-04</td>\n",
       "    </tr>\n",
       "    <tr>\n",
       "      <th>58</th>\n",
       "      <td>Browser_3</td>\n",
       "      <td>3.493432e-04</td>\n",
       "    </tr>\n",
       "    <tr>\n",
       "      <th>59</th>\n",
       "      <td>Browser_7</td>\n",
       "      <td>2.865176e-04</td>\n",
       "    </tr>\n",
       "    <tr>\n",
       "      <th>60</th>\n",
       "      <td>Browser_13</td>\n",
       "      <td>1.745366e-04</td>\n",
       "    </tr>\n",
       "    <tr>\n",
       "      <th>61</th>\n",
       "      <td>TrafficType_9</td>\n",
       "      <td>1.139211e-04</td>\n",
       "    </tr>\n",
       "    <tr>\n",
       "      <th>62</th>\n",
       "      <td>Browser_12</td>\n",
       "      <td>9.571439e-05</td>\n",
       "    </tr>\n",
       "    <tr>\n",
       "      <th>63</th>\n",
       "      <td>OperatingSystems_6</td>\n",
       "      <td>8.626018e-05</td>\n",
       "    </tr>\n",
       "    <tr>\n",
       "      <th>64</th>\n",
       "      <td>TrafficType_14</td>\n",
       "      <td>6.301877e-05</td>\n",
       "    </tr>\n",
       "    <tr>\n",
       "      <th>65</th>\n",
       "      <td>TrafficType_16</td>\n",
       "      <td>6.126712e-05</td>\n",
       "    </tr>\n",
       "    <tr>\n",
       "      <th>66</th>\n",
       "      <td>OperatingSystems_7</td>\n",
       "      <td>4.780413e-05</td>\n",
       "    </tr>\n",
       "    <tr>\n",
       "      <th>67</th>\n",
       "      <td>TrafficType_15</td>\n",
       "      <td>3.857291e-05</td>\n",
       "    </tr>\n",
       "    <tr>\n",
       "      <th>68</th>\n",
       "      <td>TrafficType_19</td>\n",
       "      <td>2.479388e-05</td>\n",
       "    </tr>\n",
       "    <tr>\n",
       "      <th>69</th>\n",
       "      <td>TrafficType_18</td>\n",
       "      <td>1.761135e-05</td>\n",
       "    </tr>\n",
       "    <tr>\n",
       "      <th>70</th>\n",
       "      <td>Browser_11</td>\n",
       "      <td>1.332662e-05</td>\n",
       "    </tr>\n",
       "    <tr>\n",
       "      <th>71</th>\n",
       "      <td>Browser_9</td>\n",
       "      <td>8.086201e-06</td>\n",
       "    </tr>\n",
       "    <tr>\n",
       "      <th>72</th>\n",
       "      <td>OperatingSystems_5</td>\n",
       "      <td>4.988825e-06</td>\n",
       "    </tr>\n",
       "    <tr>\n",
       "      <th>73</th>\n",
       "      <td>TrafficType_17</td>\n",
       "      <td>4.770793e-08</td>\n",
       "    </tr>\n",
       "    <tr>\n",
       "      <th>74</th>\n",
       "      <td>TrafficType_12</td>\n",
       "      <td>0.000000e+00</td>\n",
       "    </tr>\n",
       "  </tbody>\n",
       "</table>\n",
       "</div>"
      ],
      "text/plain": [
       "                          Feature    Importance\n",
       "0                      PageValues  3.678785e-01\n",
       "1                       ExitRates  6.243004e-02\n",
       "2         ProductRelated_Duration  5.446832e-02\n",
       "3         Administrative_Duration  4.381993e-02\n",
       "4                  ProductRelated  4.294537e-02\n",
       "5                     BounceRates  3.725728e-02\n",
       "6                       Month_May  3.339750e-02\n",
       "7                  Administrative  2.447186e-02\n",
       "8              OperatingSystems_3  2.165046e-02\n",
       "9   VisitorType_Returning_Visitor  1.871185e-02\n",
       "10                      Month_Dec  1.855133e-02\n",
       "11                  TrafficType_1  1.765078e-02\n",
       "12         Informational_Duration  1.719543e-02\n",
       "13                      Month_Mar  1.639641e-02\n",
       "14                      Browser_2  1.436052e-02\n",
       "15             OperatingSystems_1  1.421225e-02\n",
       "16                  TrafficType_3  1.375693e-02\n",
       "17                   Weekend_True  1.259803e-02\n",
       "18             OperatingSystems_2  1.150762e-02\n",
       "19                  Weekend_False  1.135568e-02\n",
       "20                      Browser_1  1.059225e-02\n",
       "21                       Region_1  1.000124e-02\n",
       "22                       Region_3  9.958644e-03\n",
       "23                  TrafficType_2  9.791540e-03\n",
       "24                  Informational  9.483931e-03\n",
       "25                      Month_Nov  8.040192e-03\n",
       "26                  TrafficType_4  7.540705e-03\n",
       "27        VisitorType_New_Visitor  6.381705e-03\n",
       "28                 TrafficType_13  5.017530e-03\n",
       "29                       Region_4  4.658105e-03\n",
       "30                       Region_2  4.655066e-03\n",
       "31                     SpecialDay  4.481949e-03\n",
       "32                      Browser_4  4.205432e-03\n",
       "33                       Region_7  3.939794e-03\n",
       "34                      Month_Oct  3.510737e-03\n",
       "35                       Region_6  3.499368e-03\n",
       "36                      Month_Sep  3.495758e-03\n",
       "37                       Region_9  3.084714e-03\n",
       "38             OperatingSystems_4  2.977979e-03\n",
       "39                      Month_Aug  2.797994e-03\n",
       "40                      Month_Jul  2.792346e-03\n",
       "41                  TrafficType_6  2.507366e-03\n",
       "42                       Region_8  2.217366e-03\n",
       "43                      Browser_5  2.186036e-03\n",
       "44                       Region_5  1.967995e-03\n",
       "45                  TrafficType_8  1.872212e-03\n",
       "46                     Month_June  1.858745e-03\n",
       "47                 TrafficType_10  1.686091e-03\n",
       "48                  TrafficType_5  1.558345e-03\n",
       "49                      Browser_6  1.372990e-03\n",
       "50                     Browser_10  1.146192e-03\n",
       "51                 TrafficType_11  1.089039e-03\n",
       "52                 TrafficType_20  1.056948e-03\n",
       "53                      Browser_8  6.330634e-04\n",
       "54             OperatingSystems_8  6.330254e-04\n",
       "55              VisitorType_Other  5.001017e-04\n",
       "56                  TrafficType_7  4.087854e-04\n",
       "57                      Month_Feb  3.967710e-04\n",
       "58                      Browser_3  3.493432e-04\n",
       "59                      Browser_7  2.865176e-04\n",
       "60                     Browser_13  1.745366e-04\n",
       "61                  TrafficType_9  1.139211e-04\n",
       "62                     Browser_12  9.571439e-05\n",
       "63             OperatingSystems_6  8.626018e-05\n",
       "64                 TrafficType_14  6.301877e-05\n",
       "65                 TrafficType_16  6.126712e-05\n",
       "66             OperatingSystems_7  4.780413e-05\n",
       "67                 TrafficType_15  3.857291e-05\n",
       "68                 TrafficType_19  2.479388e-05\n",
       "69                 TrafficType_18  1.761135e-05\n",
       "70                     Browser_11  1.332662e-05\n",
       "71                      Browser_9  8.086201e-06\n",
       "72             OperatingSystems_5  4.988825e-06\n",
       "73                 TrafficType_17  4.770793e-08\n",
       "74                 TrafficType_12  0.000000e+00"
      ]
     },
     "execution_count": 31,
     "metadata": {},
     "output_type": "execute_result"
    }
   ],
   "source": [
    "rf_df_sorted = rf_df.sort_values(\"Importance\", ascending = False)\n",
    "rf_df_sorted = rf_df_sorted.reset_index(drop = True)\n",
    "\n",
    "pd.set_option('display.max_rows', None)\n",
    "\n",
    "rf_df_sorted"
   ]
  },
  {
   "cell_type": "code",
   "execution_count": null,
   "metadata": {
    "colab": {
     "base_uri": "https://localhost:8080/",
     "height": 447
    },
    "id": "DAsJEP18A_t_",
    "outputId": "f98bca3b-819c-46c9-d194-c40fa6ad1b6a"
   },
   "outputs": [],
   "source": [
    "plt.bar(rf_df_sorted[\"Feature\"], rf_df_sorted[\"Importance\"])"
   ]
  },
  {
   "cell_type": "code",
   "execution_count": null,
   "metadata": {
    "colab": {
     "base_uri": "https://localhost:8080/"
    },
    "id": "9db__5BsEoPk",
    "outputId": "827825d4-db85-4d93-d2d7-6e5b44fb8dab"
   },
   "outputs": [],
   "source": [
    "#Filter out for attributes with random forest score > 0.009\n",
    "filtered_rf = rf_df_sorted[rf_df_sorted['Importance'] > 0.009]\n",
    "#filtered_attributes_rf = filtered_rf.index.tolist()\n",
    "df_rf = df_onehot[filtered_rf[\"Feature\"]]\n",
    "\n",
    "#24 features are kept after random forest feature selection\n",
    "df_rf[\"Revenue\"] = df_onehot[\"Revenue\"]"
   ]
  },
  {
   "cell_type": "code",
   "execution_count": null,
   "metadata": {
    "id": "u9ugzyvSGHY6"
   },
   "outputs": [],
   "source": [
    "#Specify independent/ dependent values\n",
    "X_rf = df_rf.drop(columns = \"Revenue\")\n",
    "y_rf = df_rf[\"Revenue\"]\n",
    "\n",
    "#Split the Data\n",
    "X_rf_train, X_rf_test, y_rf_train, y_rf_test = train_test_split(X_rf, y_rf, test_size = 0.3)\n",
    "\n",
    "smote = SMOTE()\n",
    "X_rf_train_smote, y_rf_train_smote = smote.fit_resample(X_rf_train, y_rf_train)"
   ]
  },
  {
   "cell_type": "code",
   "execution_count": null,
   "metadata": {
    "colab": {
     "base_uri": "https://localhost:8080/"
    },
    "id": "xcf9E9e1GKjS",
    "outputId": "9fa8374c-fb06-4fdb-b36d-7d7d9633079b"
   },
   "outputs": [],
   "source": [
    "#Call model function\n",
    "\n",
    "%memit DTClassifier(X_rf_train_smote, y_rf_train_smote, X_rf_test, y_rf_test)"
   ]
  },
  {
   "cell_type": "code",
   "execution_count": null,
   "metadata": {
    "colab": {
     "base_uri": "https://localhost:8080/"
    },
    "id": "aYBcrC_iqWex",
    "outputId": "e9b14d09-9284-4d07-f940-1852a244a5de"
   },
   "outputs": [],
   "source": [
    "%memit RFClassifier(X_rf_train_smote, y_rf_train_smote, X_rf_test, y_rf_test)"
   ]
  },
  {
   "cell_type": "code",
   "execution_count": null,
   "metadata": {
    "colab": {
     "base_uri": "https://localhost:8080/"
    },
    "id": "NVyqzHn_qdNm",
    "outputId": "9ffb41e6-a63d-4a3b-ec39-029eb9fd3836"
   },
   "outputs": [],
   "source": [
    "%memit LRClassifier(X_rf_train_smote, y_rf_train_smote, X_rf_test, y_rf_test)"
   ]
  },
  {
   "cell_type": "markdown",
   "metadata": {
    "id": "TwQkYE3sI1Ta"
   },
   "source": [
    "RFE (Wrapper Method)"
   ]
  },
  {
   "cell_type": "code",
   "execution_count": 24,
   "metadata": {
    "id": "NDMBPt9xIIDb"
   },
   "outputs": [],
   "source": [
    "from sklearn.feature_selection import RFE\n",
    "from sklearn.linear_model import LogisticRegression\n",
    "\n",
    "df_X_rfe = df_onehot.drop(columns = \"Revenue\")\n",
    "df_y_rfe = df_onehot[\"Revenue\"]\n",
    "\n",
    "# Instantiate the model and RFE selector\n",
    "model = LogisticRegression(solver = \"liblinear\")\n",
    "rfe_selector = RFE(model, n_features_to_select = 20)\n",
    "\n",
    "# Perform RFE feature selection\n",
    "selected_features = rfe_selector.fit_transform(df_X_rfe, df_y_rfe)\n",
    "\n",
    "# Get the mask of selected features\n",
    "feature_mask = rfe_selector.support_\n",
    "\n",
    "# Get the ranking of features (optional)\n",
    "feature_ranking = rfe_selector.ranking_"
   ]
  },
  {
   "cell_type": "code",
   "execution_count": 25,
   "metadata": {
    "colab": {
     "base_uri": "https://localhost:8080/"
    },
    "id": "RcyqK991QIjB",
    "outputId": "49c5af79-122a-4d55-eeab-e60ddd525554"
   },
   "outputs": [
    {
     "name": "stdout",
     "output_type": "stream",
     "text": [
      "Selected feature indices: [6, 7, 9, 10, 12, 13, 17, 18, 19, 22, 30, 39, 50, 52, 56, 62, 64, 67, 73, 74]\n",
      "                          Feature  Rank\n",
      "74                   Weekend_True     1\n",
      "73                  Weekend_False     1\n",
      "19                      Month_Sep     1\n",
      "18                      Month_Oct     1\n",
      "17                      Month_Nov     1\n",
      "39                     Browser_12     1\n",
      "30                      Browser_3     1\n",
      "62                 TrafficType_13     1\n",
      "13                      Month_Jul     1\n",
      "12                      Month_Feb     1\n",
      "64                 TrafficType_15     1\n",
      "9                      SpecialDay     1\n",
      "52                  TrafficType_3     1\n",
      "7                       ExitRates     1\n",
      "6                     BounceRates     1\n",
      "56                  TrafficType_7     1\n",
      "50                  TrafficType_1     1\n",
      "67                 TrafficType_18     1\n",
      "10                      Month_Aug     1\n",
      "22             OperatingSystems_3     1\n",
      "68                 TrafficType_19     2\n",
      "69                 TrafficType_20     3\n",
      "55                  TrafficType_6     4\n",
      "65                 TrafficType_16     5\n",
      "72  VisitorType_Returning_Visitor     6\n",
      "25             OperatingSystems_6     7\n",
      "34                      Browser_7     8\n",
      "33                      Browser_6     9\n",
      "20             OperatingSystems_1    10\n",
      "57                  TrafficType_8    11\n",
      "15                      Month_Mar    12\n",
      "11                      Month_Dec    13\n",
      "26             OperatingSystems_7    14\n",
      "49                       Region_9    15\n",
      "24             OperatingSystems_5    16\n",
      "42                       Region_2    17\n",
      "14                     Month_June    18\n",
      "38                     Browser_11    19\n",
      "71              VisitorType_Other    20\n",
      "29                      Browser_2    21\n",
      "31                      Browser_4    22\n",
      "28                      Browser_1    23\n",
      "2                   Informational    24\n",
      "59                 TrafficType_10    25\n",
      "51                  TrafficType_2    26\n",
      "60                 TrafficType_11    27\n",
      "16                      Month_May    28\n",
      "54                  TrafficType_5    29\n",
      "45                       Region_5    30\n",
      "23             OperatingSystems_4    31\n",
      "70        VisitorType_New_Visitor    32\n",
      "8                      PageValues    33\n",
      "44                       Region_4    34\n",
      "35                      Browser_8    35\n",
      "37                     Browser_10    36\n",
      "63                 TrafficType_14    37\n",
      "53                  TrafficType_4    38\n",
      "61                 TrafficType_12    39\n",
      "58                  TrafficType_9    40\n",
      "36                      Browser_9    41\n",
      "43                       Region_3    42\n",
      "47                       Region_7    43\n",
      "41                       Region_1    44\n",
      "46                       Region_6    45\n",
      "48                       Region_8    46\n",
      "66                 TrafficType_17    47\n",
      "27             OperatingSystems_8    48\n",
      "0                  Administrative    49\n",
      "32                      Browser_5    50\n",
      "40                     Browser_13    51\n",
      "21             OperatingSystems_2    52\n",
      "4                  ProductRelated    53\n",
      "1         Administrative_Duration    54\n",
      "5         ProductRelated_Duration    55\n",
      "3          Informational_Duration    56\n"
     ]
    }
   ],
   "source": [
    "# Print the selected feature indices\n",
    "selected_indices = [i for i, mask in enumerate(feature_mask) if mask]\n",
    "print(\"Selected feature indices:\", selected_indices)\n",
    "\n",
    "rfe_ranking_df = pd.DataFrame({\"Feature\": df_X_rfe.columns, \"Rank\": feature_ranking})\n",
    "rfe_ranking_df = rfe_ranking_df.sort_values(\"Rank\")\n",
    "\n",
    "pd.set_option('display.max_rows', None)\n",
    "\n",
    "print(rfe_ranking_df)"
   ]
  },
  {
   "cell_type": "code",
   "execution_count": 26,
   "metadata": {
    "colab": {
     "base_uri": "https://localhost:8080/"
    },
    "id": "Ol0YNXOxI1yI",
    "outputId": "21ace023-b8e3-49cc-a1f2-4ef02d1feba0"
   },
   "outputs": [
    {
     "name": "stderr",
     "output_type": "stream",
     "text": [
      "C:\\Users\\david\\AppData\\Local\\Temp/ipykernel_14448/333540687.py:4: SettingWithCopyWarning: \n",
      "A value is trying to be set on a copy of a slice from a DataFrame.\n",
      "Try using .loc[row_indexer,col_indexer] = value instead\n",
      "\n",
      "See the caveats in the documentation: https://pandas.pydata.org/pandas-docs/stable/user_guide/indexing.html#returning-a-view-versus-a-copy\n",
      "  df_rfe[\"Revenue\"] = df_onehot[\"Revenue\"]\n"
     ]
    }
   ],
   "source": [
    "df_rfe = df_onehot.iloc[:, selected_indices]\n",
    "\n",
    "#20 features are kept after random forest feature selection\n",
    "df_rfe[\"Revenue\"] = df_onehot[\"Revenue\"]"
   ]
  },
  {
   "cell_type": "code",
   "execution_count": 27,
   "metadata": {
    "id": "uWe3PC14Kurf"
   },
   "outputs": [],
   "source": [
    "#Specify independent/ dependent values\n",
    "X_rfe = df_rfe.drop(columns = \"Revenue\")\n",
    "y_rfe = df_rfe[\"Revenue\"]\n",
    "\n",
    "#Split the Data\n",
    "X_rfe_train, X_rfe_test, y_rfe_train, y_rfe_test = train_test_split(X_rfe, y_rfe, test_size = 0.3)\n",
    "\n",
    "smote = SMOTE()\n",
    "X_rfe_train_smote, y_rfe_train_smote = smote.fit_resample(X_rfe_train, y_rfe_train)"
   ]
  },
  {
   "cell_type": "code",
   "execution_count": 28,
   "metadata": {
    "colab": {
     "base_uri": "https://localhost:8080/"
    },
    "id": "tabseQSqSC8b",
    "outputId": "1d72c651-fa2a-4efb-fea5-2e850a90402f"
   },
   "outputs": [
    {
     "name": "stdout",
     "output_type": "stream",
     "text": [
      "              precision    recall  f1-score   support\n",
      "\n",
      "           0       0.88      0.75      0.81      3123\n",
      "           1       0.24      0.42      0.30       576\n",
      "\n",
      "    accuracy                           0.70      3699\n",
      "   macro avg       0.56      0.59      0.56      3699\n",
      "weighted avg       0.78      0.70      0.73      3699\n",
      "\n",
      "[[2354  769]\n",
      " [ 335  241]]\n",
      "0.046875\n",
      "peak memory: 226.19 MiB, increment: 0.82 MiB\n"
     ]
    }
   ],
   "source": [
    "#Call decision tree function\n",
    "\n",
    "%memit DTClassifier(X_rfe_train_smote, y_rfe_train_smote, X_rfe_test, y_rfe_test)"
   ]
  },
  {
   "cell_type": "code",
   "execution_count": 29,
   "metadata": {
    "colab": {
     "base_uri": "https://localhost:8080/"
    },
    "id": "B8oLjkkjqktC",
    "outputId": "1698749f-25ec-4453-d126-12f434fe64f3"
   },
   "outputs": [
    {
     "name": "stdout",
     "output_type": "stream",
     "text": [
      "              precision    recall  f1-score   support\n",
      "\n",
      "           0       0.88      0.79      0.83      3123\n",
      "           1       0.26      0.41      0.32       576\n",
      "\n",
      "    accuracy                           0.73      3699\n",
      "   macro avg       0.57      0.60      0.57      3699\n",
      "weighted avg       0.78      0.73      0.75      3699\n",
      "\n",
      "[[2463  660]\n",
      " [ 342  234]]\n",
      "1.078125\n",
      "peak memory: 268.39 MiB, increment: 42.21 MiB\n"
     ]
    }
   ],
   "source": [
    "%memit RFClassifier(X_rfe_train_smote, y_rfe_train_smote, X_rfe_test, y_rfe_test)"
   ]
  },
  {
   "cell_type": "code",
   "execution_count": 30,
   "metadata": {
    "colab": {
     "base_uri": "https://localhost:8080/"
    },
    "id": "yEzLtfXpqont",
    "outputId": "6c24d157-7217-4622-f064-0399b6b4c58d"
   },
   "outputs": [
    {
     "name": "stdout",
     "output_type": "stream",
     "text": [
      "              precision    recall  f1-score   support\n",
      "\n",
      "           0       0.92      0.63      0.75      3123\n",
      "           1       0.26      0.72      0.39       576\n",
      "\n",
      "    accuracy                           0.64      3699\n",
      "   macro avg       0.59      0.67      0.57      3699\n",
      "weighted avg       0.82      0.64      0.69      3699\n",
      "\n",
      "[[1952 1171]\n",
      " [ 159  417]]\n",
      "0.046875\n",
      "peak memory: 226.60 MiB, increment: 2.84 MiB\n"
     ]
    }
   ],
   "source": [
    "%memit LRClassifier(X_rfe_train_smote, y_rfe_train_smote, X_rfe_test, y_rfe_test)"
   ]
  },
  {
   "cell_type": "code",
   "execution_count": null,
   "metadata": {},
   "outputs": [],
   "source": []
  }
 ],
 "metadata": {
  "colab": {
   "provenance": []
  },
  "kernelspec": {
   "display_name": "Python 3 (ipykernel)",
   "language": "python",
   "name": "python3"
  },
  "language_info": {
   "codemirror_mode": {
    "name": "ipython",
    "version": 3
   },
   "file_extension": ".py",
   "mimetype": "text/x-python",
   "name": "python",
   "nbconvert_exporter": "python",
   "pygments_lexer": "ipython3",
   "version": "3.9.7"
  }
 },
 "nbformat": 4,
 "nbformat_minor": 1
}
