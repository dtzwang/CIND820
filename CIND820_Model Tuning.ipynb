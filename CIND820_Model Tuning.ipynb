{
 "cells": [
  {
   "cell_type": "code",
   "execution_count": 1,
   "metadata": {
    "id": "4JCoOguwtKhF"
   },
   "outputs": [],
   "source": [
    "#Data processing\n",
    "from sklearn.preprocessing import OneHotEncoder\n",
    "from sklearn.preprocessing import LabelEncoder\n",
    "\n",
    "from imblearn.over_sampling import SMOTE\n",
    "\n",
    "from sklearn.model_selection import train_test_split\n",
    "from sklearn.compose import ColumnTransformer\n",
    "\n",
    "#Model performance metrics\n",
    "from time import process_time\n",
    "from memory_profiler import profile\n",
    "from sklearn.metrics import confusion_matrix\n",
    "from sklearn.metrics import classification_report\n",
    "\n",
    "#Feature selection and models\n",
    "from sklearn.tree import DecisionTreeClassifier\n",
    "from sklearn.ensemble import RandomForestClassifier\n",
    "from sklearn.linear_model import LogisticRegression\n",
    "from sklearn.feature_selection import RFE\n",
    "\n",
    "#Data scaling\n",
    "from sklearn.preprocessing import MinMaxScaler\n",
    "from sklearn.preprocessing import StandardScaler"
   ]
  },
  {
   "cell_type": "code",
   "execution_count": 2,
   "metadata": {},
   "outputs": [],
   "source": [
    "%load_ext memory_profiler"
   ]
  },
  {
   "cell_type": "markdown",
   "metadata": {},
   "source": [
    "Models"
   ]
  },
  {
   "cell_type": "code",
   "execution_count": 3,
   "metadata": {},
   "outputs": [],
   "source": [
    "#Random Forest Model\n",
    "def RFClassifier(X_train, y_train, X_test, y_test):\n",
    "  #Initialize the Random Forest Classifier\n",
    "  forest_raw_imbalanced = RandomForestClassifier(n_estimators = 100)\n",
    "\n",
    "  #Time Measurement\n",
    "  start_time = process_time()\n",
    "\n",
    "  #Fit the classifier to the data\n",
    "  forest_raw_imbalanced.fit(X_train, y_train)\n",
    "\n",
    "  #Predict new Data\n",
    "  y_pred = forest_raw_imbalanced.predict(X_test)\n",
    "\n",
    "  #Time Measurement\n",
    "  end_time = process_time()\n",
    "\n",
    "  #Results\n",
    "  cr = classification_report(y_test, y_pred)\n",
    "  cm = confusion_matrix(y_test, y_pred)\n",
    "  time = end_time - start_time\n",
    "  print(cr)\n",
    "  print(cm)\n",
    "  print(time)"
   ]
  },
  {
   "cell_type": "markdown",
   "metadata": {},
   "source": [
    "# Modified Models to include SMOTE and standardization"
   ]
  },
  {
   "cell_type": "code",
   "execution_count": 14,
   "metadata": {},
   "outputs": [],
   "source": [
    "#Random Forest function\n",
    "def RFClassifierMOD(X_train, y_train, X_test, y_test, numeric_attributes, cat_attributes, num_estimators):\n",
    "  #Initialize the DecisionTreeClassifier\n",
    "  forest_raw_imbalanced = RandomForestClassifier(n_estimators = num_estimators)\n",
    "\n",
    "  #Time Measurement\n",
    "  start_time = process_time()\n",
    "  \n",
    "  #Data preprocessing\n",
    "  smote = SMOTE()\n",
    "  X_train_smote, y_train_smote = smote.fit_resample(X_train, y_train)\n",
    "    \n",
    "  # Subset the numeric attributes\n",
    "  X_train_smote_numeric = X_train_smote[numeric_attributes]\n",
    "  X_test_numeric = X_test[numeric_attributes]\n",
    "\n",
    "  scaler = StandardScaler()\n",
    "  X_train_smote_S = scaler.fit_transform(X_train_smote_numeric)\n",
    "  X_test_numeric_S = scaler.transform(X_test_numeric)\n",
    "        \n",
    "  # Concatenate the standardized numeric attributes with the categorical attributes\n",
    "  X_train_combined = np.concatenate((X_train_smote_S, X_train_smote[cat_attributes]), axis=1)\n",
    "  X_test_combined = np.concatenate((X_test_numeric_S, X_test[cat_attributes]), axis=1)\n",
    "\n",
    "  #Fit the Classifier to the data\n",
    "  forest_raw_imbalanced.fit(X_train_combined, y_train_smote)\n",
    "\n",
    "  #Predict new Data\n",
    "  y_pred = forest_raw_imbalanced.predict(X_test_combined)\n",
    "\n",
    "  #Time Measurement\n",
    "  end_time = process_time()\n",
    "\n",
    "  #Results\n",
    "  cr = classification_report(y_test, y_pred)\n",
    "  cm = confusion_matrix(y_test, y_pred)\n",
    "  time = end_time - start_time\n",
    "  print(cr)\n",
    "  print(cm)\n",
    "  print(time)"
   ]
  },
  {
   "cell_type": "markdown",
   "metadata": {},
   "source": [
    "# Crossvalidation Models"
   ]
  },
  {
   "cell_type": "code",
   "execution_count": 15,
   "metadata": {},
   "outputs": [],
   "source": [
    "from sklearn.model_selection import cross_val_score\n",
    "from sklearn.model_selection import KFold\n",
    "from sklearn.model_selection import TimeSeriesSplit"
   ]
  },
  {
   "cell_type": "markdown",
   "metadata": {},
   "source": [
    "K-Fold Validation Models"
   ]
  },
  {
   "cell_type": "code",
   "execution_count": 16,
   "metadata": {},
   "outputs": [],
   "source": [
    "#Random Forest Function\n",
    "def RFClassifierKFold(X_train, y_train, X_test, y_test, numeric_attributes, cat_attributes, num_estimators, num_folds):\n",
    "  #Initialize the DecisionTreeClassifier\n",
    "  forest_raw_imbalanced = RandomForestClassifier(n_estimators = num_estimators)\n",
    "\n",
    "  #Time Measurement\n",
    "  start_time = process_time()\n",
    "    \n",
    "  #Specify number of folds (k) for cross validation\n",
    "  kfold = KFold(n_splits = num_folds)\n",
    "    \n",
    "  results = cross_val_score(forest_raw_imbalanced, X_train, y_train, cv = kfold)\n",
    "\n",
    "  #Lists for metrics\n",
    "  confusion_matrices = []\n",
    "  classification_reports = []\n",
    "    \n",
    "  all_predictions = []\n",
    "  all_true_labels = []\n",
    "    \n",
    "  for train_index, val_index in kfold.split(X_train):\n",
    "    X_train_fold_values, X_val_fold_values = X_train.values[train_index], X_train.values[val_index]\n",
    "    y_train_fold_values, y_val_fold_values = y_train.values[train_index], y_train.values[val_index]\n",
    "    \n",
    "    X_train_fold = pd.DataFrame(X_train_fold_values, columns=X_train.columns)\n",
    "    X_val_fold = pd.DataFrame(X_val_fold_values, columns=X_train.columns)\n",
    "    y_train_fold = pd.Series(y_train_fold_values, index=X_train_fold.index)\n",
    "    y_val_fold = pd.Series(y_val_fold_values, index=X_val_fold.index)\n",
    "    \n",
    "    X_train_numeric = X_train_fold.loc[:, numeric_attributes]\n",
    "    X_val_numeric = X_val_fold.loc[:, numeric_attributes]\n",
    "    \n",
    "    scaler = StandardScaler()\n",
    "    X_train_smote_S = scaler.fit_transform(X_train_numeric)\n",
    "    X_test_numeric_S = scaler.transform(X_val_numeric)\n",
    "    \n",
    "    # Concatenate the standardized numeric attributes with the categorical attributes\n",
    "    X_train_combined = np.concatenate((X_train_smote_S, X_train_fold[cat_attributes]), axis=1)\n",
    "    X_test_combined = np.concatenate((X_test_numeric_S, X_val_fold[cat_attributes]), axis=1)\n",
    "    \n",
    "    #Data preprocessing\n",
    "    smote = SMOTE()\n",
    "    X_train_fold_SMOTE, y_train_fold_SMOTE = smote.fit_resample(X_train_combined, y_train_fold)\n",
    "\n",
    "    #Fit the Classifier to the data\n",
    "    forest_raw_imbalanced.fit(X_train_combined, y_train_fold)\n",
    "\n",
    "    #Predict new Data\n",
    "    y_pred = forest_raw_imbalanced.predict(X_test_combined)\n",
    "    \n",
    "    cr = classification_report(y_val_fold, y_pred)\n",
    "    classification_reports.append(cr)\n",
    "    \n",
    "    cm = confusion_matrix(y_val_fold, y_pred)\n",
    "    confusion_matrices.append(cm)\n",
    "    \n",
    "    all_predictions.extend(y_pred)\n",
    "    all_true_labels.extend(y_val_fold)\n",
    "\n",
    "  #Time Measurement\n",
    "  end_time = process_time()\n",
    "\n",
    "  time = end_time - start_time\n",
    "  summary_report = classification_report(all_true_labels, all_predictions)\n",
    "  \n",
    "  \"\"\"\n",
    "  for fold in range(num_folds):\n",
    "    print(\"Confusion matrix for fold\", fold+1, \":\\n\", confusion_matrices[fold])\n",
    "    print(\"Classification report for fold\", fold+1, \":\\n\", classification_reports[fold])\n",
    "    print()\"\"\"\n",
    "    \n",
    "  print(summary_report)\n",
    "  print(time)"
   ]
  },
  {
   "cell_type": "markdown",
   "metadata": {},
   "source": [
    "# Time-Series crossvalidation"
   ]
  },
  {
   "cell_type": "code",
   "execution_count": 17,
   "metadata": {},
   "outputs": [],
   "source": [
    "#Random Forest Function\n",
    "def RFClassifierTS(X_train, y_train, X_test, y_test, numeric_attributes, cat_attributes, num_estimators, num_folds):\n",
    "  #Initialize the DecisionTreeClassifier\n",
    "  forest_raw_imbalanced = RandomForestClassifier(n_estimators = num_estimators)\n",
    "\n",
    "  #Time Measurement\n",
    "  start_time = process_time()\n",
    "    \n",
    "  #Specify number of folds (k) for cross validation\n",
    "  tscv = TimeSeriesSplit(n_splits = num_folds)\n",
    "    \n",
    "  results = cross_val_score(forest_raw_imbalanced, X_train, y_train, cv = tscv)\n",
    "\n",
    "  #Lists for metrics\n",
    "  confusion_matrices = []\n",
    "  classification_reports = []\n",
    "    \n",
    "  all_predictions = []\n",
    "  all_true_labels = []\n",
    "    \n",
    "  for train_index, val_index in tscv.split(X_train):\n",
    "    X_train_fold_values, X_val_fold_values = X_train.values[train_index], X_train.values[val_index]\n",
    "    y_train_fold_values, y_val_fold_values = y_train.values[train_index], y_train.values[val_index]\n",
    "    \n",
    "    X_train_fold = pd.DataFrame(X_train_fold_values, columns=X_train.columns)\n",
    "    X_val_fold = pd.DataFrame(X_val_fold_values, columns=X_train.columns)\n",
    "    y_train_fold = pd.Series(y_train_fold_values, index=X_train_fold.index)\n",
    "    y_val_fold = pd.Series(y_val_fold_values, index=X_val_fold.index)\n",
    "    \n",
    "    X_train_numeric = X_train_fold.loc[:, numeric_attributes]\n",
    "    X_val_numeric = X_val_fold.loc[:, numeric_attributes]\n",
    "    \n",
    "    scaler = StandardScaler()\n",
    "    X_train_smote_S = scaler.fit_transform(X_train_numeric)\n",
    "    X_test_numeric_S = scaler.transform(X_val_numeric)\n",
    "    \n",
    "    # Concatenate the standardized numeric attributes with the categorical attributes\n",
    "    X_train_combined = np.concatenate((X_train_smote_S, X_train_fold[cat_attributes]), axis=1)\n",
    "    X_test_combined = np.concatenate((X_test_numeric_S, X_val_fold[cat_attributes]), axis=1)\n",
    "    \n",
    "    #Data preprocessing\n",
    "    smote = SMOTE()\n",
    "    X_train_fold_SMOTE, y_train_fold_SMOTE = smote.fit_resample(X_train_combined, y_train_fold)\n",
    "\n",
    "    #Fit the Classifier to the data\n",
    "    forest_raw_imbalanced.fit(X_train_combined, y_train_fold)\n",
    "\n",
    "    #Predict new Data\n",
    "    y_pred = forest_raw_imbalanced.predict(X_test_combined)\n",
    "    \n",
    "    cr = classification_report(y_val_fold, y_pred)\n",
    "    classification_reports.append(cr)\n",
    "    \n",
    "    cm = confusion_matrix(y_val_fold, y_pred)\n",
    "    confusion_matrices.append(cm)\n",
    "    \n",
    "    all_predictions.extend(y_pred)\n",
    "    all_true_labels.extend(y_val_fold)\n",
    "\n",
    "  #Time Measurement\n",
    "  end_time = process_time()\n",
    "\n",
    "  time = end_time - start_time\n",
    "  summary_report = classification_report(all_true_labels, all_predictions)\n",
    "  \n",
    "  \"\"\"\n",
    "  for fold in range(num_folds):\n",
    "    print(\"Confusion matrix for fold\", fold+1, \":\\n\", confusion_matrices[fold])\n",
    "    print(\"Classification report for fold\", fold+1, \":\\n\", classification_reports[fold])\n",
    "    print()\"\"\"\n",
    "    \n",
    "  print(summary_report)\n",
    "  print(time)"
   ]
  },
  {
   "cell_type": "markdown",
   "metadata": {},
   "source": [
    "# Data Import and Processing"
   ]
  },
  {
   "cell_type": "code",
   "execution_count": 8,
   "metadata": {
    "id": "44OujbUttSSO"
   },
   "outputs": [],
   "source": [
    "#https://archive.ics.uci.edu/dataset/468/online+shoppers+purchasing+intention+dataset\n",
    "\n",
    "import pandas as pd\n",
    "import numpy as np\n",
    "import matplotlib.pyplot as plt\n",
    "\n",
    "df = pd.read_csv(\"online_shoppers_intention.csv\")"
   ]
  },
  {
   "cell_type": "code",
   "execution_count": 9,
   "metadata": {
    "id": "KRCsu3r5tZpJ"
   },
   "outputs": [],
   "source": [
    "#Identify categorical attributes\n",
    "categorical_features = [\"Month\", \"OperatingSystems\", \"Browser\", \"Region\", \"TrafficType\", \"VisitorType\", \"Weekend\"]\n",
    "df_cat = df[categorical_features]\n",
    "\n",
    "df_onehot = pd.get_dummies(df, columns = categorical_features, prefix = categorical_features)\n",
    "\n",
    "#Tranform categorical attributes\n",
    "label_encoder = LabelEncoder()\n",
    "df_onehot['Revenue'] = label_encoder.fit_transform(df['Revenue'])"
   ]
  },
  {
   "cell_type": "markdown",
   "metadata": {
    "id": "EcUOdrF_tlUx"
   },
   "source": [
    "Control SMOTE data"
   ]
  },
  {
   "cell_type": "code",
   "execution_count": 10,
   "metadata": {
    "id": "8rc2Vmy8texw"
   },
   "outputs": [],
   "source": [
    "#Specify independent/ dependent values\n",
    "X = df_onehot.drop(columns = \"Revenue\")\n",
    "y = df_onehot[\"Revenue\"]\n",
    "\n",
    "#Split the Data\n",
    "X_train, X_test, y_train, y_test = train_test_split(X, y, test_size = 0.3)\n",
    "\n",
    "smote = SMOTE()\n",
    "X_train_smote, y_train_smote = smote.fit_resample(X_train, y_train)"
   ]
  },
  {
   "cell_type": "markdown",
   "metadata": {
    "id": "zpMyEWmOtvjL"
   },
   "source": [
    "# Filtered Data"
   ]
  },
  {
   "cell_type": "markdown",
   "metadata": {
    "id": "IHa8Kv3ptyvM"
   },
   "source": [
    "Pearson Correlation Filters"
   ]
  },
  {
   "cell_type": "code",
   "execution_count": 11,
   "metadata": {
    "colab": {
     "base_uri": "https://localhost:8080/"
    },
    "id": "3HrDrPu0tyFK",
    "outputId": "77ac05e8-4c20-49ec-d89b-e762c8772149"
   },
   "outputs": [
    {
     "name": "stderr",
     "output_type": "stream",
     "text": [
      "C:\\Users\\david\\AppData\\Local\\Temp/ipykernel_2596/402327404.py:18: SettingWithCopyWarning: \n",
      "A value is trying to be set on a copy of a slice from a DataFrame.\n",
      "Try using .loc[row_indexer,col_indexer] = value instead\n",
      "\n",
      "See the caveats in the documentation: https://pandas.pydata.org/pandas-docs/stable/user_guide/indexing.html#returning-a-view-versus-a-copy\n",
      "  df_pearson['Revenue'] = label_encoder.fit_transform(df_pearson['Revenue'])\n"
     ]
    }
   ],
   "source": [
    "#Correlation of Onehot encoded dataset\n",
    "\n",
    "corr = df_onehot.corr()\n",
    "\n",
    "revenue_correlation = corr[\"Revenue\"]\n",
    "sorted_pearson_correlation = revenue_correlation.abs().sort_values(ascending = False)\n",
    "\n",
    "sorted_pearson_correlation_df = pd.DataFrame(sorted_pearson_correlation)\n",
    "SPC_topquantile = sorted_pearson_correlation_df.quantile(0.75)\n",
    "filtered_df = sorted_pearson_correlation_df[sorted_pearson_correlation_df >= SPC_topquantile]\n",
    "filtered_df.dropna(inplace = True)\n",
    "#18 attributes were kept, were in the top quantile\n",
    "     \n",
    "df_pearson = df_onehot[filtered_df.index.tolist()]\n",
    "\n",
    "#Tranform categorical attributes\n",
    "label_encoder = LabelEncoder()\n",
    "df_pearson['Revenue'] = label_encoder.fit_transform(df_pearson['Revenue'])\n",
    "\n",
    "#Specify independent/ dependent values\n",
    "X_p = df_pearson.drop(columns = \"Revenue\")\n",
    "y_p = df_pearson[\"Revenue\"]\n",
    "\n",
    "#Split the Data\n",
    "X_p_train, X_p_test, y_p_train, y_p_test = train_test_split(X_p, y_p, test_size = 0.3)\n",
    "\n",
    "smote = SMOTE()\n",
    "X_p_train_smote, y_p_train_smote = smote.fit_resample(X_p_train, y_p_train)"
   ]
  },
  {
   "cell_type": "markdown",
   "metadata": {
    "id": "k3Mm3aGPuXM0"
   },
   "source": [
    "Random Forest Features"
   ]
  },
  {
   "cell_type": "code",
   "execution_count": 12,
   "metadata": {
    "colab": {
     "base_uri": "https://localhost:8080/"
    },
    "id": "QEM13opyuB5_",
    "outputId": "739e18dc-171b-43f9-b25a-f990e38acc59"
   },
   "outputs": [
    {
     "name": "stderr",
     "output_type": "stream",
     "text": [
      "C:\\Users\\david\\AppData\\Local\\Temp/ipykernel_2596/1307179630.py:26: SettingWithCopyWarning: \n",
      "A value is trying to be set on a copy of a slice from a DataFrame.\n",
      "Try using .loc[row_indexer,col_indexer] = value instead\n",
      "\n",
      "See the caveats in the documentation: https://pandas.pydata.org/pandas-docs/stable/user_guide/indexing.html#returning-a-view-versus-a-copy\n",
      "  df_rf[\"Revenue\"] = df_onehot[\"Revenue\"]\n"
     ]
    }
   ],
   "source": [
    "#Filters of RF Classifier\n",
    "\n",
    "rf_classifier = RandomForestClassifier()\n",
    "\n",
    "#Fit random forest classifier\n",
    "rf_classifier.fit(X_train_smote, y_train_smote)\n",
    "\n",
    "feature_importances = rf_classifier.feature_importances_\n",
    "\n",
    "rf_df = pd.DataFrame({\"Feature\": X_train_smote.columns, \"Importance\": feature_importances})\n",
    "\n",
    "sorted_features = np.argsort(feature_importances)[::-1]\n",
    "\n",
    "#Sorting features\n",
    "rf_df_sorted = rf_df.sort_values(\"Importance\", ascending = False)\n",
    "rf_df_sorted = rf_df_sorted.reset_index(drop = True)\n",
    "rf_df_sorted\n",
    "\n",
    "rf_df_sorted.describe()\n",
    "RF_topquantile = rf_df_sorted['Importance'].quantile(0.75)\n",
    "RFfiltered_df = rf_df_sorted.loc[rf_df_sorted['Importance'] >= RF_topquantile]\n",
    "#19 features were kept after keeping the top quartile of results\n",
    "filtered_attributes_rf = RFfiltered_df.index.tolist()\n",
    "df_rf = df_onehot[RFfiltered_df[\"Feature\"]]\n",
    "\n",
    "df_rf[\"Revenue\"] = df_onehot[\"Revenue\"]\n",
    "\n",
    "#Specify independent/ dependent values\n",
    "X_rf = df_rf.drop(columns = \"Revenue\")\n",
    "y_rf = df_rf[\"Revenue\"]\n",
    "\n",
    "#Split the Data\n",
    "X_rf_train, X_rf_test, y_rf_train, y_rf_test = train_test_split(X_rf, y_rf, test_size = 0.3)\n",
    "\n",
    "smote = SMOTE()\n",
    "X_rf_train_smote, y_rf_train_smote = smote.fit_resample(X_rf_train, y_rf_train)"
   ]
  },
  {
   "cell_type": "code",
   "execution_count": 13,
   "metadata": {},
   "outputs": [],
   "source": [
    "#Define columns that need data normalization/ standardization\n",
    "numeric_features = ['Administrative', 'Administrative_Duration', 'Informational',\n",
    "       'Informational_Duration', 'ProductRelated', 'ProductRelated_Duration',\n",
    "       'BounceRates', 'ExitRates', 'PageValues', 'SpecialDay']\n",
    "\n",
    "p_numeric_features = ['Administrative', 'Administrative_Duration', 'Informational', \n",
    "       'Informational_Duration', 'ProductRelated', 'ProductRelated_Duration','BounceRates',\n",
    "       'ExitRates', 'PageValues', 'SpecialDay']\n",
    "\n",
    "rf_numeric_features = ['Administrative', 'Administrative_Duration',\n",
    "       'Informational_Duration', 'ProductRelated', 'ProductRelated_Duration',\n",
    "       'BounceRates', 'ExitRates', 'PageValues']\n",
    "\n",
    "cat_features = [col for col in X_train if col not in numeric_features]\n",
    "p_cat_features = [col for col in X_p_train if col not in numeric_features]\n",
    "rf_cat_features = [col for col in X_rf_train if col not in numeric_features]"
   ]
  },
  {
   "cell_type": "markdown",
   "metadata": {},
   "source": [
    "# Changing num_estimators"
   ]
  },
  {
   "cell_type": "markdown",
   "metadata": {},
   "source": [
    "# Modified Functions to include oversampling/scaling within the function"
   ]
  },
  {
   "cell_type": "markdown",
   "metadata": {},
   "source": [
    "Pearson Correlation Filtered Data"
   ]
  },
  {
   "cell_type": "code",
   "execution_count": 18,
   "metadata": {},
   "outputs": [
    {
     "name": "stdout",
     "output_type": "stream",
     "text": [
      "              precision    recall  f1-score   support\n",
      "\n",
      "           0       0.95      0.91      0.93      3125\n",
      "           1       0.61      0.74      0.67       574\n",
      "\n",
      "    accuracy                           0.89      3699\n",
      "   macro avg       0.78      0.82      0.80      3699\n",
      "weighted avg       0.90      0.89      0.89      3699\n",
      "\n",
      "[[2851  274]\n",
      " [ 151  423]]\n",
      "2.453125\n",
      "peak memory: 235.53 MiB, increment: 25.13 MiB\n"
     ]
    }
   ],
   "source": [
    "%memit RFClassifierMOD(X_p_train, y_p_train, X_p_test, y_p_test, p_numeric_features, p_cat_features, 100)"
   ]
  },
  {
   "cell_type": "code",
   "execution_count": 21,
   "metadata": {},
   "outputs": [
    {
     "name": "stdout",
     "output_type": "stream",
     "text": [
      "              precision    recall  f1-score   support\n",
      "\n",
      "           0       0.95      0.91      0.93      3125\n",
      "           1       0.61      0.75      0.68       574\n",
      "\n",
      "    accuracy                           0.89      3699\n",
      "   macro avg       0.78      0.83      0.80      3699\n",
      "weighted avg       0.90      0.89      0.89      3699\n",
      "\n",
      "[[2854  271]\n",
      " [ 142  432]]\n",
      "10.265625\n",
      "peak memory: 1494.98 MiB, increment: 99.66 MiB\n"
     ]
    }
   ],
   "source": [
    "%memit RFClassifierMOD(X_p_train, y_p_train, X_p_test, y_p_test, p_numeric_features, p_cat_features, 500)"
   ]
  },
  {
   "cell_type": "code",
   "execution_count": 19,
   "metadata": {},
   "outputs": [
    {
     "name": "stdout",
     "output_type": "stream",
     "text": [
      "              precision    recall  f1-score   support\n",
      "\n",
      "           0       0.95      0.91      0.93      3125\n",
      "           1       0.61      0.75      0.67       574\n",
      "\n",
      "    accuracy                           0.89      3699\n",
      "   macro avg       0.78      0.83      0.80      3699\n",
      "weighted avg       0.90      0.89      0.89      3699\n",
      "\n",
      "[[2856  269]\n",
      " [ 146  428]]\n",
      "16.625\n",
      "peak memory: 396.10 MiB, increment: 187.78 MiB\n"
     ]
    }
   ],
   "source": [
    "%memit RFClassifierMOD(X_p_train, y_p_train, X_p_test, y_p_test, p_numeric_features, p_cat_features, 1000)"
   ]
  },
  {
   "cell_type": "markdown",
   "metadata": {},
   "source": [
    "# K-Fold Crossvalidation "
   ]
  },
  {
   "cell_type": "markdown",
   "metadata": {},
   "source": [
    "Random forest features"
   ]
  },
  {
   "cell_type": "code",
   "execution_count": 25,
   "metadata": {},
   "outputs": [
    {
     "name": "stdout",
     "output_type": "stream",
     "text": [
      "              precision    recall  f1-score   support\n",
      "\n",
      "           0       0.92      0.96      0.94      7322\n",
      "           1       0.73      0.54      0.62      1309\n",
      "\n",
      "    accuracy                           0.90      8631\n",
      "   macro avg       0.83      0.75      0.78      8631\n",
      "weighted avg       0.89      0.90      0.89      8631\n",
      "\n",
      "10.671875\n",
      "peak memory: 1293.09 MiB, increment: 9.95 MiB\n"
     ]
    }
   ],
   "source": [
    "%memit RFClassifierKFold(X_rf_train, y_rf_train, X_rf_test, y_rf_test, rf_numeric_features, rf_cat_features, 100, 5)"
   ]
  },
  {
   "cell_type": "code",
   "execution_count": 23,
   "metadata": {},
   "outputs": [
    {
     "name": "stdout",
     "output_type": "stream",
     "text": [
      "              precision    recall  f1-score   support\n",
      "\n",
      "           0       0.92      0.96      0.94      7322\n",
      "           1       0.73      0.54      0.62      1309\n",
      "\n",
      "    accuracy                           0.90      8631\n",
      "   macro avg       0.83      0.75      0.78      8631\n",
      "weighted avg       0.89      0.90      0.89      8631\n",
      "\n",
      "36.625\n",
      "peak memory: 1332.65 MiB, increment: 52.67 MiB\n"
     ]
    }
   ],
   "source": [
    "%memit RFClassifierKFold(X_rf_train, y_rf_train, X_rf_test, y_rf_test, rf_numeric_features, rf_cat_features, 500, 5)"
   ]
  },
  {
   "cell_type": "code",
   "execution_count": 24,
   "metadata": {},
   "outputs": [
    {
     "name": "stdout",
     "output_type": "stream",
     "text": [
      "              precision    recall  f1-score   support\n",
      "\n",
      "           0       0.92      0.96      0.94      7322\n",
      "           1       0.73      0.54      0.62      1309\n",
      "\n",
      "    accuracy                           0.90      8631\n",
      "   macro avg       0.83      0.75      0.78      8631\n",
      "weighted avg       0.89      0.90      0.89      8631\n",
      "\n",
      "69.03125\n",
      "peak memory: 1380.50 MiB, increment: 86.07 MiB\n"
     ]
    }
   ],
   "source": [
    "%memit RFClassifierKFold(X_rf_train, y_rf_train, X_rf_test, y_rf_test, rf_numeric_features, rf_cat_features, 1000, 5)"
   ]
  },
  {
   "cell_type": "code",
   "execution_count": 33,
   "metadata": {},
   "outputs": [
    {
     "name": "stdout",
     "output_type": "stream",
     "text": [
      "              precision    recall  f1-score   support\n",
      "\n",
      "           0       0.92      0.96      0.94      7322\n",
      "           1       0.73      0.53      0.61      1309\n",
      "\n",
      "    accuracy                           0.90      8631\n",
      "   macro avg       0.82      0.75      0.78      8631\n",
      "weighted avg       0.89      0.90      0.89      8631\n",
      "\n",
      "23.953125\n",
      "peak memory: 1328.65 MiB, increment: 12.66 MiB\n"
     ]
    }
   ],
   "source": [
    "%memit RFClassifierKFold(X_rf_train, y_rf_train, X_rf_test, y_rf_test, rf_numeric_features, rf_cat_features, 100, 10)"
   ]
  },
  {
   "cell_type": "code",
   "execution_count": 34,
   "metadata": {},
   "outputs": [
    {
     "name": "stdout",
     "output_type": "stream",
     "text": [
      "              precision    recall  f1-score   support\n",
      "\n",
      "           0       0.92      0.96      0.94      7322\n",
      "           1       0.71      0.54      0.61      1309\n",
      "\n",
      "    accuracy                           0.90      8631\n",
      "   macro avg       0.82      0.75      0.78      8631\n",
      "weighted avg       0.89      0.90      0.89      8631\n",
      "\n",
      "136.09375\n",
      "peak memory: 1333.60 MiB, increment: 12.47 MiB\n"
     ]
    }
   ],
   "source": [
    "%memit RFClassifierKFold(X_rf_train, y_rf_train, X_rf_test, y_rf_test, rf_numeric_features, rf_cat_features, 100, 50)"
   ]
  },
  {
   "cell_type": "markdown",
   "metadata": {},
   "source": [
    "# Time-Series Crossvalidation"
   ]
  },
  {
   "cell_type": "markdown",
   "metadata": {},
   "source": [
    "Random Forest features"
   ]
  },
  {
   "cell_type": "code",
   "execution_count": 26,
   "metadata": {},
   "outputs": [
    {
     "name": "stdout",
     "output_type": "stream",
     "text": [
      "              precision    recall  f1-score   support\n",
      "\n",
      "           0       0.92      0.97      0.94      6091\n",
      "           1       0.73      0.52      0.60      1099\n",
      "\n",
      "    accuracy                           0.90      7190\n",
      "   macro avg       0.82      0.74      0.77      7190\n",
      "weighted avg       0.89      0.90      0.89      7190\n",
      "\n",
      "7.359375\n",
      "peak memory: 1302.00 MiB, increment: 13.80 MiB\n"
     ]
    }
   ],
   "source": [
    "%memit RFClassifierTS(X_rf_train, y_rf_train, X_rf_test, y_rf_test, rf_numeric_features, rf_cat_features, 100, 5)"
   ]
  },
  {
   "cell_type": "code",
   "execution_count": 30,
   "metadata": {},
   "outputs": [
    {
     "name": "stdout",
     "output_type": "stream",
     "text": [
      "              precision    recall  f1-score   support\n",
      "\n",
      "           0       0.92      0.97      0.94      6091\n",
      "           1       0.73      0.52      0.60      1099\n",
      "\n",
      "    accuracy                           0.90      7190\n",
      "   macro avg       0.82      0.74      0.77      7190\n",
      "weighted avg       0.89      0.90      0.89      7190\n",
      "\n",
      "23.09375\n",
      "peak memory: 1378.89 MiB, increment: 57.43 MiB\n"
     ]
    }
   ],
   "source": [
    "%memit RFClassifierTS(X_rf_train, y_rf_train, X_rf_test, y_rf_test, rf_numeric_features, rf_cat_features, 500, 5)"
   ]
  },
  {
   "cell_type": "code",
   "execution_count": 31,
   "metadata": {},
   "outputs": [
    {
     "name": "stdout",
     "output_type": "stream",
     "text": [
      "              precision    recall  f1-score   support\n",
      "\n",
      "           0       0.92      0.96      0.94      6091\n",
      "           1       0.72      0.52      0.60      1099\n",
      "\n",
      "    accuracy                           0.90      7190\n",
      "   macro avg       0.82      0.74      0.77      7190\n",
      "weighted avg       0.89      0.90      0.89      7190\n",
      "\n",
      "43.8125\n",
      "peak memory: 1443.12 MiB, increment: 97.33 MiB\n"
     ]
    }
   ],
   "source": [
    "%memit RFClassifierTS(X_rf_train, y_rf_train, X_rf_test, y_rf_test, rf_numeric_features, rf_cat_features, 1000, 5)"
   ]
  },
  {
   "cell_type": "code",
   "execution_count": 29,
   "metadata": {},
   "outputs": [
    {
     "name": "stdout",
     "output_type": "stream",
     "text": [
      "              precision    recall  f1-score   support\n",
      "\n",
      "           0       0.92      0.97      0.94      6649\n",
      "           1       0.72      0.51      0.60      1191\n",
      "\n",
      "    accuracy                           0.90      7840\n",
      "   macro avg       0.82      0.74      0.77      7840\n",
      "weighted avg       0.89      0.90      0.89      7840\n",
      "\n",
      "13.703125\n",
      "peak memory: 1325.43 MiB, increment: 19.48 MiB\n"
     ]
    }
   ],
   "source": [
    "%memit RFClassifierTS(X_rf_train, y_rf_train, X_rf_test, y_rf_test, rf_numeric_features, rf_cat_features, 100, 10)"
   ]
  },
  {
   "cell_type": "code",
   "execution_count": 32,
   "metadata": {},
   "outputs": [
    {
     "name": "stdout",
     "output_type": "stream",
     "text": [
      "              precision    recall  f1-score   support\n",
      "\n",
      "           0       0.92      0.96      0.94      7171\n",
      "           1       0.72      0.51      0.60      1279\n",
      "\n",
      "    accuracy                           0.90      8450\n",
      "   macro avg       0.82      0.74      0.77      8450\n",
      "weighted avg       0.89      0.90      0.89      8450\n",
      "\n",
      "69.0625\n",
      "peak memory: 1323.23 MiB, increment: 51.21 MiB\n"
     ]
    }
   ],
   "source": [
    "%memit RFClassifierTS(X_rf_train, y_rf_train, X_rf_test, y_rf_test, rf_numeric_features, rf_cat_features, 100, 50)"
   ]
  },
  {
   "cell_type": "code",
   "execution_count": null,
   "metadata": {},
   "outputs": [],
   "source": []
  }
 ],
 "metadata": {
  "colab": {
   "provenance": []
  },
  "kernelspec": {
   "display_name": "Python 3 (ipykernel)",
   "language": "python",
   "name": "python3"
  },
  "language_info": {
   "codemirror_mode": {
    "name": "ipython",
    "version": 3
   },
   "file_extension": ".py",
   "mimetype": "text/x-python",
   "name": "python",
   "nbconvert_exporter": "python",
   "pygments_lexer": "ipython3",
   "version": "3.9.7"
  }
 },
 "nbformat": 4,
 "nbformat_minor": 1
}
