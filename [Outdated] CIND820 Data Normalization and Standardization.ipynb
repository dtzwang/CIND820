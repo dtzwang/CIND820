{
 "cells": [
  {
   "cell_type": "code",
   "execution_count": 10,
   "id": "845dc414",
   "metadata": {},
   "outputs": [],
   "source": [
    "from time import process_time\n",
    "\n",
    "from sklearn.model_selection import train_test_split\n",
    "from sklearn.preprocessing import OneHotEncoder\n",
    "from sklearn.preprocessing import LabelEncoder\n",
    "from sklearn.tree import DecisionTreeClassifier\n",
    "from sklearn.compose import ColumnTransformer\n",
    "from sklearn.metrics import confusion_matrix\n",
    "from sklearn.metrics import classification_report\n",
    "from imblearn.over_sampling import SMOTE"
   ]
  },
  {
   "cell_type": "code",
   "execution_count": 4,
   "id": "3766ac4d",
   "metadata": {},
   "outputs": [],
   "source": [
    "#https://archive.ics.uci.edu/dataset/468/online+shoppers+purchasing+intention+dataset\n",
    "\n",
    "import pandas as pd\n",
    "import numpy as np\n",
    "import matplotlib.pyplot as plt\n",
    "\n",
    "df = pd.read_csv(\"online_shoppers_intention.csv\")"
   ]
  },
  {
   "cell_type": "code",
   "execution_count": 8,
   "id": "cddf39e8",
   "metadata": {},
   "outputs": [],
   "source": [
    "#Identify categorical attributes\n",
    "categorical_features = [\"Month\", \"OperatingSystems\", \"Browser\", \"Region\", \"TrafficType\", \"VisitorType\", \"Weekend\"]\n",
    "df_cat = df[categorical_features]\n",
    "\n",
    "df_onehot = pd.get_dummies(df, columns = categorical_features, prefix = categorical_features)\n",
    "\n",
    "#Tranform categorical attributes\n",
    "label_encoder = LabelEncoder()\n",
    "df_onehot['Revenue'] = label_encoder.fit_transform(df['Revenue'])"
   ]
  },
  {
   "cell_type": "markdown",
   "id": "7a900591",
   "metadata": {},
   "source": [
    "Split the Data and apply SMOTE Oversampling"
   ]
  },
  {
   "cell_type": "code",
   "execution_count": 11,
   "id": "722a5533",
   "metadata": {},
   "outputs": [],
   "source": [
    "#Specify independent/ dependent values\n",
    "X = df_onehot.drop(columns = \"Revenue\")\n",
    "y = df_onehot[\"Revenue\"]\n",
    "\n",
    "#Split the Data\n",
    "X_train, X_test, y_train, y_test = train_test_split(X, y, test_size = 0.3)\n",
    "\n",
    "#SMOTE\n",
    "smote = SMOTE()\n",
    "X_train_smote, y_train_smote = smote.fit_resample(X_train, y_train)"
   ]
  },
  {
   "cell_type": "code",
   "execution_count": 28,
   "id": "d2e09915",
   "metadata": {},
   "outputs": [],
   "source": [
    "#Define columns that need data normalization/ standardization\n",
    "numeric_features = ['Administrative', 'Administrative_Duration', 'Informational',\n",
    "       'Informational_Duration', 'ProductRelated', 'ProductRelated_Duration',\n",
    "       'BounceRates', 'ExitRates', 'PageValues', 'SpecialDay']\n",
    "\n",
    "cat_features = [col for col in X_train if col not in numeric_features]"
   ]
  },
  {
   "cell_type": "code",
   "execution_count": 13,
   "id": "e4c8c578",
   "metadata": {},
   "outputs": [],
   "source": [
    "from sklearn.preprocessing import MinMaxScaler\n",
    "from sklearn.preprocessing import StandardScaler"
   ]
  },
  {
   "cell_type": "code",
   "execution_count": 47,
   "id": "48a15ead",
   "metadata": {},
   "outputs": [],
   "source": [
    "X_train_smote_copy = X_train_smote.copy()\n",
    "X_train_smote_num = X_train_smote_copy[numeric_features]\n",
    "\n",
    "X_test_copy = X_test.copy()\n",
    "X_test_num = X_test_copy[numeric_features]"
   ]
  },
  {
   "cell_type": "markdown",
   "id": "c309242d",
   "metadata": {},
   "source": [
    "Data Normalization"
   ]
  },
  {
   "cell_type": "code",
   "execution_count": 48,
   "id": "9b97d530",
   "metadata": {},
   "outputs": [],
   "source": [
    "nscaler = MinMaxScaler()\n",
    "\n",
    "X_train_smote_normalized_num = nscaler.fit_transform(X_train_smote_num)\n",
    "X_train_smote_normalized_combined = np.concatenate((X_train_smote_normalized_num, X_train_smote_copy[cat_features]), axis = 1)\n",
    "\n",
    "X_test_normalized_num = nscaler.transform(X_test_num)\n",
    "X_test_normalized_combined = np.concatenate((X_test_normalized_num, X_test_copy[cat_features]), axis = 1)\n"
   ]
  },
  {
   "cell_type": "code",
   "execution_count": 49,
   "id": "e520e365",
   "metadata": {},
   "outputs": [
    {
     "name": "stdout",
     "output_type": "stream",
     "text": [
      "              precision    recall  f1-score   support\n",
      "\n",
      "           0       0.93      0.92      0.92      3145\n",
      "           1       0.56      0.60      0.58       554\n",
      "\n",
      "    accuracy                           0.87      3699\n",
      "   macro avg       0.74      0.76      0.75      3699\n",
      "weighted avg       0.87      0.87      0.87      3699\n",
      "\n",
      "[[2880  265]\n",
      " [ 221  333]]\n",
      "0.125\n"
     ]
    }
   ],
   "source": [
    "#Initialize the DecisionTreeClassifier\n",
    "tree_raw_imbalanced = DecisionTreeClassifier(criterion = \"entropy\")\n",
    "\n",
    "#Time Measurement\n",
    "start_time = process_time()\n",
    "\n",
    "#Fit the Classifier to the data\n",
    "tree_raw_imbalanced.fit(X_train_smote_normalized_combined, y_train_smote)\n",
    "\n",
    "#Predict new Data\n",
    "y_pred = tree_raw_imbalanced.predict(X_test_normalized_combined)\n",
    "\n",
    "#Time Measurement\n",
    "end_time = process_time()\n",
    "\n",
    "#Results\n",
    "cr = classification_report(y_test, y_pred)\n",
    "cm = confusion_matrix(y_test, y_pred)\n",
    "time = end_time - start_time\n",
    "print(cr)\n",
    "print(cm)\n",
    "print(time)"
   ]
  },
  {
   "cell_type": "markdown",
   "id": "4724de19",
   "metadata": {},
   "source": [
    "Data Standardization"
   ]
  },
  {
   "cell_type": "code",
   "execution_count": 50,
   "id": "ba793c12",
   "metadata": {},
   "outputs": [],
   "source": [
    "sscaler = StandardScaler()\n",
    "\n",
    "X_train_smote_standardized_num = sscaler.fit_transform(X_train_smote_num)\n",
    "X_train_smote_standardized_combined = np.concatenate((X_train_smote_standardized_num, X_train_smote_copy[cat_features]), axis = 1)\n",
    "\n",
    "X_test_standardized_num = sscaler.transform(X_test_num)\n",
    "X_test_standardized_combined = np.concatenate((X_test_standardized_num, X_test_copy[cat_features]), axis = 1)"
   ]
  },
  {
   "cell_type": "code",
   "execution_count": 51,
   "id": "336e4489",
   "metadata": {},
   "outputs": [
    {
     "name": "stdout",
     "output_type": "stream",
     "text": [
      "              precision    recall  f1-score   support\n",
      "\n",
      "           0       0.93      0.92      0.92      3145\n",
      "           1       0.57      0.61      0.59       554\n",
      "\n",
      "    accuracy                           0.87      3699\n",
      "   macro avg       0.75      0.76      0.76      3699\n",
      "weighted avg       0.88      0.87      0.87      3699\n",
      "\n",
      "[[2887  258]\n",
      " [ 215  339]]\n",
      "0.109375\n"
     ]
    }
   ],
   "source": [
    "#Initialize the DecisionTreeClassifier\n",
    "tree_raw_imbalanced = DecisionTreeClassifier(criterion = \"entropy\")\n",
    "\n",
    "#Time Measurement\n",
    "start_time = process_time()\n",
    "\n",
    "#Fit the Classifier to the data\n",
    "tree_raw_imbalanced.fit(X_train_smote_standardized_combined, y_train_smote)\n",
    "\n",
    "#Predict new Data\n",
    "y_pred = tree_raw_imbalanced.predict(X_test_standardized_combined)\n",
    "\n",
    "#Time Measurement\n",
    "end_time = process_time()\n",
    "\n",
    "#Results\n",
    "cr = classification_report(y_test, y_pred)\n",
    "cm = confusion_matrix(y_test, y_pred)\n",
    "time = end_time - start_time\n",
    "print(cr)\n",
    "print(cm)\n",
    "print(time)"
   ]
  },
  {
   "cell_type": "markdown",
   "id": "9d8e4534",
   "metadata": {},
   "source": [
    "Conclusion > Data Standardization leads to increased precision, recall, f1-score when predicting successfull purchases"
   ]
  },
  {
   "cell_type": "code",
   "execution_count": null,
   "id": "e0134621",
   "metadata": {},
   "outputs": [],
   "source": []
  }
 ],
 "metadata": {
  "kernelspec": {
   "display_name": "Python 3 (ipykernel)",
   "language": "python",
   "name": "python3"
  },
  "language_info": {
   "codemirror_mode": {
    "name": "ipython",
    "version": 3
   },
   "file_extension": ".py",
   "mimetype": "text/x-python",
   "name": "python",
   "nbconvert_exporter": "python",
   "pygments_lexer": "ipython3",
   "version": "3.9.7"
  }
 },
 "nbformat": 4,
 "nbformat_minor": 5
}
